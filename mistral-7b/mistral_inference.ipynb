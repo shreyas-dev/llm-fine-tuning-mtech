{
 "cells": [
  {
   "cell_type": "code",
   "execution_count": 1,
   "id": "initial_id",
   "metadata": {
    "collapsed": true,
    "ExecuteTime": {
     "end_time": "2024-09-06T10:23:13.198485Z",
     "start_time": "2024-09-06T10:23:13.007631Z"
    }
   },
   "outputs": [
    {
     "ename": "ModuleNotFoundError",
     "evalue": "No module named 'mistral_inference'",
     "output_type": "error",
     "traceback": [
      "\u001B[0;31m---------------------------------------------------------------------------\u001B[0m",
      "\u001B[0;31mModuleNotFoundError\u001B[0m                       Traceback (most recent call last)",
      "Cell \u001B[0;32mIn[1], line 1\u001B[0m\n\u001B[0;32m----> 1\u001B[0m \u001B[38;5;28;01mfrom\u001B[39;00m \u001B[38;5;21;01mmistral_inference\u001B[39;00m\u001B[38;5;21;01m.\u001B[39;00m\u001B[38;5;21;01mtransformer\u001B[39;00m \u001B[38;5;28;01mimport\u001B[39;00m Transformer\n\u001B[1;32m      2\u001B[0m \u001B[38;5;28;01mfrom\u001B[39;00m \u001B[38;5;21;01mmistral_inference\u001B[39;00m\u001B[38;5;21;01m.\u001B[39;00m\u001B[38;5;21;01mgenerate\u001B[39;00m \u001B[38;5;28;01mimport\u001B[39;00m generate\n\u001B[1;32m      4\u001B[0m \u001B[38;5;28;01mfrom\u001B[39;00m \u001B[38;5;21;01mmistral_common\u001B[39;00m\u001B[38;5;21;01m.\u001B[39;00m\u001B[38;5;21;01mtokens\u001B[39;00m\u001B[38;5;21;01m.\u001B[39;00m\u001B[38;5;21;01mtokenizers\u001B[39;00m\u001B[38;5;21;01m.\u001B[39;00m\u001B[38;5;21;01mmistral\u001B[39;00m \u001B[38;5;28;01mimport\u001B[39;00m MistralTokenizer\n",
      "\u001B[0;31mModuleNotFoundError\u001B[0m: No module named 'mistral_inference'"
     ]
    }
   ],
   "source": [
    "from mistral_inference.transformer import Transformer\n",
    "from mistral_inference.generate import generate\n",
    "\n",
    "from mistral_common.tokens.tokenizers.mistral import MistralTokenizer\n",
    "from mistral_common.protocol.instruct.messages import UserMessage\n",
    "from mistral_common.protocol.instruct.request import ChatCompletionRequest"
   ]
  },
  {
   "cell_type": "code",
   "outputs": [],
   "source": [
    "tokenizer = MistralTokenizer.from_file(\"/content/drive/MyDrive/MTech/Dissertation/mistral/models/7B-Instruct/Mistral-7B-Instruct-v0.3/tokenizer.model.v3\")  # change to extracted tokenizer file\n",
    "model = Transformer.from_folder(\"/content/drive/MyDrive/MTech/Dissertation/mistral/models/7B-Instruct/Mistral-7B-Instruct-v0.3\")  # change to extracted model dir\n",
    "model.load_lora(\"/content/drive/MyDrive/MTech/Dissertation/mistral/models/7B-Instruct/ipc_run/checkpoints/checkpoint_000100/consolidated/lora.safetensors\", \"/content/drive/MyDrive/MTech/Dissertation/mistral/models/7B-Instruct/ipc-feature-training/checkpoints/checkpoint_000100/consolidated/lora.safetensors\")\n",
    "\n",
    "completion_request = ChatCompletionRequest(messages=[UserMessage(content=\"Item No. 103 And In the matter of: Debasish Banerjee & Ors.- versus -The Petitioners, apprehending arrest in connection with Raiganj Police Station Case No.994 of 2013 dated 12.09.2013 under sections 498A/34 of the Indian Penal Code, 1860, have applied for anticipatory bail.We have heard the learned Advocate for the Petitioners and the learned Advocate for the State.We have seen the case diary. In our opinion, the Petitioner No. 1, Debasish Banerjee, who is the husband of the Complainant, does not deserve to be granted anticipatory bail.As regards the other Petitioners, who are the relatives of the Petitioner No.1, there is no need for their custodial interrogation in this case.Hence, we allow their application and direct that in the event of arrest, the Petitioner Nos. 2 to 5, Partha Sarathi Banerjee, Smt. Minati Banerjee, Smt. Mekhla Banerjee and Smt. Moushumi Banerjee, shall be released on bail upon furnishing a bond `5,000/- (Rupees Five thousand) each with one surety each of like amount to the satisfaction of the Court concerned subject to the conditions laid down under section 438 (2) of the Code of Criminal Procedure, 1973 .The application for anticipatory bail is, thus, disposed of. (Nishita Mhatre, J) (Ranjit Kumar Bag, J)\")])\n",
    "\n",
    "tokens = tokenizer.encode_chat_completion(completion_request).tokens\n",
    "\n",
    "out_tokens, _ = generate([tokens], model, max_tokens=64, temperature=0.0, eos_id=tokenizer.instruct_tokenizer.tokenizer.eos_id)\n",
    "result = tokenizer.instruct_tokenizer.tokenizer.decode(out_tokens[0])\n",
    "\n",
    "print(result)"
   ],
   "metadata": {
    "collapsed": false
   },
   "id": "d9104b9b4a6c7fb6"
  }
 ],
 "metadata": {
  "kernelspec": {
   "display_name": "Python 3",
   "language": "python",
   "name": "python3"
  },
  "language_info": {
   "codemirror_mode": {
    "name": "ipython",
    "version": 2
   },
   "file_extension": ".py",
   "mimetype": "text/x-python",
   "name": "python",
   "nbconvert_exporter": "python",
   "pygments_lexer": "ipython2",
   "version": "2.7.6"
  }
 },
 "nbformat": 4,
 "nbformat_minor": 5
}
