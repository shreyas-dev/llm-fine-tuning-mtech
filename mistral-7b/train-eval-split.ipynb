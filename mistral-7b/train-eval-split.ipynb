{
 "cells": [
  {
   "cell_type": "code",
   "execution_count": 6,
   "id": "initial_id",
   "metadata": {
    "collapsed": true,
    "ExecuteTime": {
     "end_time": "2024-09-01T09:09:10.899630Z",
     "start_time": "2024-09-01T09:09:09.798642Z"
    }
   },
   "outputs": [],
   "source": [
    "import pandas as pd\n",
    "df = pd.read_json(\"/Users/shreyasb/worskpace/shreyas/python/mtech-dissertation/mistral-7b/data/train-1.jsonl\", lines=True)"
   ]
  },
  {
   "cell_type": "code",
   "outputs": [],
   "source": [
    "df_train=df.sample(frac=0.95,random_state=200)"
   ],
   "metadata": {
    "collapsed": false,
    "ExecuteTime": {
     "end_time": "2024-09-01T09:09:10.915857Z",
     "start_time": "2024-09-01T09:09:10.911052Z"
    }
   },
   "id": "bc8191b291725c6f",
   "execution_count": 7
  },
  {
   "cell_type": "code",
   "outputs": [],
   "source": [
    "df_eval=df.drop(df_train.index)"
   ],
   "metadata": {
    "collapsed": false,
    "ExecuteTime": {
     "end_time": "2024-09-01T09:09:12.321883Z",
     "start_time": "2024-09-01T09:09:12.217364Z"
    }
   },
   "id": "4f31ecf3efa778b7",
   "execution_count": 8
  },
  {
   "cell_type": "code",
   "outputs": [],
   "source": [
    "df_train.to_json(\"/Users/shreyasb/worskpace/shreyas/python/mtech-dissertation/mistral-7b/data/ipc-train-1.jsonl\", orient=\"records\", lines=True)\n",
    "df_eval.to_json(\"/Users/shreyasb/worskpace/shreyas/python/mtech-dissertation/mistral-7b/data/ipc-eval-1.jsonl\", orient=\"records\", lines=True)"
   ],
   "metadata": {
    "collapsed": false,
    "ExecuteTime": {
     "end_time": "2024-09-01T09:09:14.202456Z",
     "start_time": "2024-09-01T09:09:13.795128Z"
    }
   },
   "id": "932b4bb4e49b8cda",
   "execution_count": 9
  },
  {
   "cell_type": "code",
   "outputs": [],
   "source": [],
   "metadata": {
    "collapsed": false
   },
   "id": "dd78a1a7be447fb6"
  }
 ],
 "metadata": {
  "kernelspec": {
   "display_name": "Python 3",
   "language": "python",
   "name": "python3"
  },
  "language_info": {
   "codemirror_mode": {
    "name": "ipython",
    "version": 2
   },
   "file_extension": ".py",
   "mimetype": "text/x-python",
   "name": "python",
   "nbconvert_exporter": "python",
   "pygments_lexer": "ipython2",
   "version": "2.7.6"
  }
 },
 "nbformat": 4,
 "nbformat_minor": 5
}
