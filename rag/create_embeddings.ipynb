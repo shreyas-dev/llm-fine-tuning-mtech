{
 "cells": [
  {
   "cell_type": "code",
   "execution_count": 18,
   "id": "initial_id",
   "metadata": {
    "collapsed": true,
    "ExecuteTime": {
     "end_time": "2024-09-22T08:59:46.652380Z",
     "start_time": "2024-09-22T08:59:46.600007Z"
    }
   },
   "outputs": [],
   "source": [
    "from langchain_huggingface import HuggingFaceEmbeddings\n",
    "from langchain_chroma import Chroma\n",
    "from langchain_openai import ChatOpenAI\n",
    "from langchain.chains import RetrievalQA\n",
    "from langchain_text_splitters import RecursiveCharacterTextSplitter\n",
    "import json\n",
    "from langchain.prompts import PromptTemplate\n"
   ]
  },
  {
   "cell_type": "code",
   "outputs": [],
   "source": [
    "input_file = \"/Users/shreyasb/worskpace/shreyas/python/mtech-dissertation/mistral-7b/data/ipc-train-1.jsonl\"\n",
    "db_path=\"/Users/shreyasb/worskpace/shreyas/python/mtech-dissertation/rag/chromadb\""
   ],
   "metadata": {
    "collapsed": false,
    "ExecuteTime": {
     "end_time": "2024-09-22T08:01:31.255966Z",
     "start_time": "2024-09-22T08:01:31.252749Z"
    }
   },
   "id": "9c2f3302b6ab7729",
   "execution_count": 2
  },
  {
   "cell_type": "code",
   "outputs": [],
   "source": [
    "def extract_content(record):\n",
    "    messages = record['messages']\n",
    "    content = \"\"\n",
    "    for message in messages:\n",
    "        if message['role'] in ['system', 'user']:\n",
    "            content += message['content'] + \" \"\n",
    "    return content.strip()\n",
    "\n",
    "# Load the JSONL file\n",
    "data = []\n",
    "with open(input_file, 'r') as file:\n",
    "    for line in file:\n",
    "        data.append(json.loads(line))\n",
    "\n",
    "# Extract content from each record\n",
    "texts = [extract_content(record) for record in data]\n",
    "\n",
    "# Split texts into chunks\n",
    "text_splitter = RecursiveCharacterTextSplitter(chunk_size=1000, chunk_overlap=200)\n",
    "chunks = text_splitter.split_text(\"\\n\\n\".join(texts))"
   ],
   "metadata": {
    "collapsed": false,
    "ExecuteTime": {
     "end_time": "2024-09-22T08:01:48.335792Z",
     "start_time": "2024-09-22T08:01:39.159077Z"
    }
   },
   "id": "99c9033a94b872b7",
   "execution_count": 3
  },
  {
   "cell_type": "code",
   "outputs": [
    {
     "name": "stderr",
     "output_type": "stream",
     "text": [
      "/Users/shreyasb/Library/Caches/pypoetry/virtualenvs/mtech-dissertation-1JO5IRnR-py3.11/lib/python3.11/site-packages/sentence_transformers/cross_encoder/CrossEncoder.py:13: TqdmExperimentalWarning: Using `tqdm.autonotebook.tqdm` in notebook mode. Use `tqdm.tqdm` instead to force console mode (e.g. in jupyter console)\n",
      "  from tqdm.autonotebook import tqdm, trange\n",
      "/Users/shreyasb/Library/Caches/pypoetry/virtualenvs/mtech-dissertation-1JO5IRnR-py3.11/lib/python3.11/site-packages/transformers/tokenization_utils_base.py:1601: FutureWarning: `clean_up_tokenization_spaces` was not set. It will be set to `True` by default. This behavior will be depracted in transformers v4.45, and will be then set to `False` by default. For more details check this issue: https://github.com/huggingface/transformers/issues/31884\n",
      "  warnings.warn(\n"
     ]
    }
   ],
   "source": [
    "embeddings = HuggingFaceEmbeddings(model_name=\"sentence-transformers/all-MiniLM-L6-v2\")"
   ],
   "metadata": {
    "collapsed": false,
    "ExecuteTime": {
     "end_time": "2024-09-22T08:02:01.891317Z",
     "start_time": "2024-09-22T08:01:48.339772Z"
    }
   },
   "id": "a4035308632c53b5",
   "execution_count": 4
  },
  {
   "cell_type": "code",
   "outputs": [
    {
     "name": "stderr",
     "output_type": "stream",
     "text": [
      "100%|██████████| 97/97 [14:51<00:00,  9.19s/it]\n"
     ]
    }
   ],
   "source": [
    "from tqdm import tqdm\n",
    "\n",
    "# Create and persist the vector store in batches\n",
    "batch_size = 1000 \n",
    "vectorstore = None\n",
    "\n",
    "for i in tqdm(range(0, len(chunks), batch_size)):\n",
    "    batch = chunks[i:i+batch_size]\n",
    "    \n",
    "    if vectorstore is None:\n",
    "        vectorstore = Chroma.from_texts(batch, embeddings, persist_directory=db_path)\n",
    "    else:\n",
    "        vectorstore.add_texts(batch)"
   ],
   "metadata": {
    "collapsed": false,
    "ExecuteTime": {
     "end_time": "2024-09-22T08:47:03.271203Z",
     "start_time": "2024-09-22T08:32:12.105471Z"
    }
   },
   "id": "9948be1e02078d30",
   "execution_count": 8
  },
  {
   "cell_type": "code",
   "outputs": [],
   "source": [
    "vectorstore = Chroma(persist_directory=db_path, embedding_function=embeddings)\n",
    "\n",
    "# Create a retriever\n",
    "retriever = vectorstore.as_retriever(search_kwargs={\"k\": 3})\n",
    "# Set up the language model\n",
    "llm = ChatOpenAI(model_name=\"gpt-3.5-turbo\", api_key=\"\", temperature=0)\n",
    "# Define the system prompt\n",
    "\n",
    "prompt_template = PromptTemplate.from_template(system_prompt)"
   ],
   "metadata": {
    "collapsed": false,
    "ExecuteTime": {
     "end_time": "2024-09-22T09:08:09.372736Z",
     "start_time": "2024-09-22T09:08:09.285452Z"
    }
   },
   "id": "713f53a6fed84e15",
   "execution_count": 36
  },
  {
   "cell_type": "code",
   "outputs": [],
   "source": [
    "# Create the RAG chain with the system prompt\n",
    "qa_chain = RetrievalQA.from_chain_type(\n",
    "    llm=llm,\n",
    "    chain_type=\"stuff\",\n",
    "    retriever=retriever,\n",
    "    return_source_documents=True\n",
    ")\n"
   ],
   "metadata": {
    "collapsed": false,
    "ExecuteTime": {
     "end_time": "2024-09-22T09:07:57.706844Z",
     "start_time": "2024-09-22T09:07:57.697791Z"
    }
   },
   "id": "dd83fc50657b6b26",
   "execution_count": 34
  },
  {
   "cell_type": "code",
   "outputs": [],
   "source": [
    "def answer_question(question):\n",
    "    system_prompt = \"\"\"You are an AI assistant specialized in Indian Penal Code (IPC). When asked about relevant IPC sections for a given case, respond ONLY with the section numbers in the following format:\n",
    "\n",
    "Section X of the Indian Penal Code, Section Y of the Indian Penal Code, ...\n",
    "\n",
    "Do not provide any explanations or additional text. Only list the relevant IPC sections in the specified format.\"\"\"\n",
    "    prompt_question = f\"\"\"\n",
    "{system_prompt}\n",
    "{question}\"\"\"\n",
    "    result = qa_chain({\"query\": prompt_question})\n",
    "    answer = result['result']\n",
    "    sources = [doc.page_content for doc in result['source_documents']]\n",
    "    return answer, sources"
   ],
   "metadata": {
    "collapsed": false,
    "ExecuteTime": {
     "end_time": "2024-09-22T09:08:54.926491Z",
     "start_time": "2024-09-22T09:08:54.924505Z"
    }
   },
   "id": "ffc0e34b19370263",
   "execution_count": 37
  },
  {
   "cell_type": "code",
   "outputs": [
    {
     "name": "stdout",
     "output_type": "stream",
     "text": [
      "Question: The State has come up in revision against order-dated 20.09.1999 passed by Sessions Judge, Sehore in S.T. No.126\\/1999 whereby holding that no offence under Section 307 of the IPC was made out, he proceeded to transfer the case, under Section 228(1) of the Code of Criminal Procedure (for short 'the Code'), to Chief Judicial Magistrate, Sehore for trial.The respondents were charge-sheeted for the offences under Sections 147, 148 and 307 read with S.149 of the IPC upon the allegations that being armed with deadly weapons like gupti and lohangi, they constituted an unlawful assembly and in furtherance of the common object thereof, jointly assaulted complainant Shafique, his elder brothers Lateef and Haneef, mother Hoora Bi and Bhabhi Shabra Bi and abdominal injury sustained by Lateef was characterized by the medical expert as dangerous to life.:: 2 ::A bare perusal of the corresponding operative finding would reveal that the abdominal injury had resulted in peritoneal tear, omentum tear and splenic contusion.Learned Sessions Judge, after hearing the parties, took the view that in absence of expert opinion that the injury received by Lateef was sufficient in the ordinary course of nature to cause death, charge of attempt to murder could not be framed.However, this reasoning was apparently misconceived in view of the well- settled position of law on the point as explained by the Apex Court in State of Maharashtra v. Balram Bama Patil AIR 1983 SCThe impugned order, therefore, deserves interference.Learned counsel for the respondents still contended that the Sessions Judge, while declining to frame charge of the offence under Section 307 of the IPC, had transferred the counter case to Chief Judicial Magistrate for trial and the corresponding order has attained finality.\"The charge in each criminal case is framed on the basis of materials available in the records of that particular case.Merely because the charge for offence under Section 307, IPC has not been framed in the counter case, the petitioners do not become entitled to be discharged for the offence under Section 307, IPC, if they are otherwise liable to be charged for the offence under that section in view of the materials placed before the learned Judge.\"In the result, the revision stands allowed and the order- dated 20.09.1999 is hereby set aside.Revision allowed.(R.C.MISHRA) JUDGE 29.06.2010\n",
      "\n",
      "Answer: Section 147 of the Indian Penal Code, Section 148 of the Indian Penal Code, Section 307 of the Indian Penal Code, Section 149 of the Indian Penal Code\n",
      "\n",
      "Sources:\n",
      "\n",
      "Source 1:\n",
      "Process the following legal case details and provide the relevant sections of the Indian Penal Code. basis of a complained lodged by him before the Magistrate, investigation as contemplated under section 156(3) of the Code of Criminal Procedure (for short 'the Code') was ordered, and a charge-sheet came to be filed against the respondent nos.1 and 2 herein.The police report alleged that the respondent nos.1 and 2 had committed offences punishable under sections 324 IPC, 323 IPC, 504 IPC, 506 II of the IPC and 389 of the IPC.Being aggrieved ::: Downloaded on - 15/12/2014 23:46:59 ::: Tilak 2/4 (903)WP-1895-14 thereby, the petitioner moved the Court of Sessions in revision, challenging the order of acquittal as passed by the Magistrate.::: Downloaded on - 15/12/2014 23:46:59 :::The learned Addl.Sessions Judge, who heard the Revision Application, upheld the acquittal of the respondent nos.1 and 2 with respect to all the alleged offences, except the one punishable under section 323 of the\n",
      "\n",
      "Source 2:\n",
      "Process the following legal case details and provide the relevant sections of the Indian Penal Code. (26.04.2017) Applicants have preferred this criminal revision under Section 397 read with Section 401 of the Code of Criminal Procedure (hereinafter referred to as 'CrPC') against the order dated 20.7.2015 passed by IX Additional Sessions Judge, Gwalior, in Sessions Trial No. 201/2015, whereby the charges under Sections 307, 307/34, 329, 323 (two counts) and 506 (Part-II) of IPC have been framed against the applicants.2. Facts giving rise to present revision are that the applicants are accused of inflicting grievous injury on the person of Gagan Goyal and other injuries caused to Neeraj Shrivastava (complainant) and Sourabh Gupta, due to which an FIR was registered bearing crime No. 126/2012 at Police Station Jhansi Road District Gwalior against the present applicants for the commission of aforesaid offences.The order of framing the charge under Ss. 307, 307/34 and 329, IPC regarding\n",
      "\n",
      "Source 3:\n",
      "and 3 others under Sections 147, 148,149, 324, 337 and 504 of IPC.(d) On the next day, i.e., on 20.01.1992, at about 9.00 a.m., Nivratti(PW-3)-the complainant lodged an FIR with the Police Station, Vazirabad,Nanded, which was registered as Crime No. D/92 for the offence punishableunder Sections 309, 147, 148, 149 of the Indian Penal Code, 1860 (in shortthe “IPC”) and later on it was referred to Dharmabad Police Station whichregistered the case as Crime No. 7/92 for the offences punishable underSections 302, 147, 143, 149, 337 and 504 of IPC.(e) Both the cases were committed to the Court of Additional SessionsJudge at Biloli for trial and numbered as Sessions Case No. 49 of 1993.The Additional Sessions Judge, vide judgment and order dated 19.07.2003convicted 6 persons out of 11 accused, namely, Shetiba (appellant inCriminal Appeal No. 247 of 2008), Laxman (appellant in Criminal Appeal No.246 of 2008), Babu, Devidas, Devrao and Rohidas under Section 302 read withSection 149 of IPC and\n"
     ]
    }
   ],
   "source": [
    "# Example usage\n",
    "question = \"The State has come up in revision against order-dated 20.09.1999 passed by Sessions Judge, Sehore in S.T. No.126\\/1999 whereby holding that no offence under Section 307 of the IPC was made out, he proceeded to transfer the case, under Section 228(1) of the Code of Criminal Procedure (for short 'the Code'), to Chief Judicial Magistrate, Sehore for trial.The respondents were charge-sheeted for the offences under Sections 147, 148 and 307 read with S.149 of the IPC upon the allegations that being armed with deadly weapons like gupti and lohangi, they constituted an unlawful assembly and in furtherance of the common object thereof, jointly assaulted complainant Shafique, his elder brothers Lateef and Haneef, mother Hoora Bi and Bhabhi Shabra Bi and abdominal injury sustained by Lateef was characterized by the medical expert as dangerous to life.:: 2 ::A bare perusal of the corresponding operative finding would reveal that the abdominal injury had resulted in peritoneal tear, omentum tear and splenic contusion.Learned Sessions Judge, after hearing the parties, took the view that in absence of expert opinion that the injury received by Lateef was sufficient in the ordinary course of nature to cause death, charge of attempt to murder could not be framed.However, this reasoning was apparently misconceived in view of the well- settled position of law on the point as explained by the Apex Court in State of Maharashtra v. Balram Bama Patil AIR 1983 SCThe impugned order, therefore, deserves interference.Learned counsel for the respondents still contended that the Sessions Judge, while declining to frame charge of the offence under Section 307 of the IPC, had transferred the counter case to Chief Judicial Magistrate for trial and the corresponding order has attained finality.\\\"The charge in each criminal case is framed on the basis of materials available in the records of that particular case.Merely because the charge for offence under Section 307, IPC has not been framed in the counter case, the petitioners do not become entitled to be discharged for the offence under Section 307, IPC, if they are otherwise liable to be charged for the offence under that section in view of the materials placed before the learned Judge.\\\"In the result, the revision stands allowed and the order- dated 20.09.1999 is hereby set aside.Revision allowed.(R.C.MISHRA) JUDGE 29.06.2010\"\n",
    "answer, sources = answer_question(question)\n",
    "\n",
    "print(\"Question:\", question)\n",
    "print(\"\\nAnswer:\", answer)\n",
    "print(\"\\nSources:\")\n",
    "for i, source in enumerate(sources, 1):\n",
    "    print(f\"\\nSource {i}:\")\n",
    "    print(source)"
   ],
   "metadata": {
    "collapsed": false,
    "ExecuteTime": {
     "end_time": "2024-09-22T09:09:04.593542Z",
     "start_time": "2024-09-22T09:08:58.582597Z"
    }
   },
   "id": "b70bdf4182a7c8a5",
   "execution_count": 38
  },
  {
   "cell_type": "code",
   "outputs": [],
   "source": [],
   "metadata": {
    "collapsed": false
   },
   "id": "a72fe2ae713a9beb"
  }
 ],
 "metadata": {
  "kernelspec": {
   "display_name": "Python 3",
   "language": "python",
   "name": "python3"
  },
  "language_info": {
   "codemirror_mode": {
    "name": "ipython",
    "version": 2
   },
   "file_extension": ".py",
   "mimetype": "text/x-python",
   "name": "python",
   "nbconvert_exporter": "python",
   "pygments_lexer": "ipython2",
   "version": "2.7.6"
  }
 },
 "nbformat": 4,
 "nbformat_minor": 5
}
