{
 "cells": [
  {
   "cell_type": "code",
   "execution_count": 9,
   "id": "initial_id",
   "metadata": {
    "collapsed": true,
    "ExecuteTime": {
     "end_time": "2024-09-01T08:59:48.983041Z",
     "start_time": "2024-09-01T08:59:48.980021Z"
    }
   },
   "outputs": [],
   "source": [
    "import json\n",
    "from typing import Optional\n",
    "\n",
    "import tiktoken"
   ]
  },
  {
   "cell_type": "code",
   "outputs": [],
   "source": [
    "MAX_TOKEN_LENGTH = 8192\n",
    "encoding = tiktoken.get_encoding(\"cl100k_base\")"
   ],
   "metadata": {
    "collapsed": false,
    "ExecuteTime": {
     "end_time": "2024-09-01T08:59:50.274460Z",
     "start_time": "2024-09-01T08:59:50.265374Z"
    }
   },
   "id": "cfd13a6e00a03451",
   "execution_count": 10
  },
  {
   "cell_type": "code",
   "outputs": [],
   "source": [
    "# Function to convert JSONL to JSONL in the specified format\n",
    "def convert_jsonl_to_openai_format(input_file, output_file, num_lines = 200, offset = 0):\n",
    "    with open(input_file, 'r') as f:\n",
    "        lines = f.readlines()\n",
    "\n",
    "    with open(output_file, 'w') as f:\n",
    "        total_lines = num_lines + offset\n",
    "        for i, line in enumerate(lines):\n",
    "            if i < offset:\n",
    "                continue\n",
    "            if i >= total_lines:\n",
    "                break\n",
    "            data = json.loads(line)\n",
    "            content = \"\"\n",
    "            for text in data['text']:\n",
    "                content+=text.strip()\n",
    "            if content == \"\":\n",
    "                continue\n",
    "            if len(encoding.encode(content)) > MAX_TOKEN_LENGTH:\n",
    "                continue\n",
    "            jsonl_entry = {\n",
    "                \"messages\": [\n",
    "                    {\"role\": \"system\", \"content\": \"Process the following legal case details and provide the relevant sections of the Indian Penal Code.\"},\n",
    "                    {\"role\": \"user\", \"content\": content},\n",
    "                    {\"role\": \"assistant\", \"content\": \", \".join(data['labels'])}\n",
    "                ]\n",
    "            }\n",
    "            f.write(json.dumps(jsonl_entry) + '\\n')"
   ],
   "metadata": {
    "collapsed": false,
    "ExecuteTime": {
     "end_time": "2024-09-01T08:59:51.213997Z",
     "start_time": "2024-09-01T08:59:51.211226Z"
    }
   },
   "id": "ee59df7050def157",
   "execution_count": 11
  },
  {
   "cell_type": "code",
   "outputs": [],
   "source": [
    "jsonl_input_file = '../data/test.jsonl'\n",
    "jsonl_output_file = '/Users/shreyasb/worskpace/shreyas/python/mtech-dissertation/mistral-7b/data/train-1.jsonl'\n",
    "num_lines = 150000"
   ],
   "metadata": {
    "collapsed": false,
    "ExecuteTime": {
     "end_time": "2024-09-01T09:06:35.613780Z",
     "start_time": "2024-09-01T09:06:35.603664Z"
    }
   },
   "id": "4c6f44998444d399",
   "execution_count": 14
  },
  {
   "cell_type": "code",
   "outputs": [],
   "source": [
    "convert_jsonl_to_openai_format(jsonl_input_file, jsonl_output_file, num_lines)"
   ],
   "metadata": {
    "collapsed": false,
    "ExecuteTime": {
     "end_time": "2024-09-01T09:06:49.468794Z",
     "start_time": "2024-09-01T09:06:39.824192Z"
    }
   },
   "id": "66a73cd5eeeb0ff",
   "execution_count": 15
  },
  {
   "cell_type": "code",
   "outputs": [],
   "source": [
    "import csv\n",
    "def convert_jsonl_to_csv_for_data_analysis(input_file, output_file, num_lines=250):\n",
    "    with open(input_file, 'r') as f:\n",
    "        lines = f.readlines()\n",
    "    \n",
    "    with open(output_file, 'w', newline='') as f:\n",
    "        writer = csv.writer(f)\n",
    "        writer.writerow(['id', 'text', 'labels'])  # Write the header\n",
    "        \n",
    "        for i, line in enumerate(lines):\n",
    "            if i >= num_lines:\n",
    "                break\n",
    "            data = json.loads(line)\n",
    "            content = \"\"\n",
    "            for text in data['text']:\n",
    "                content+=text.strip()\n",
    "            if content == \"\":\n",
    "                continue\n",
    "            if len(encoding.encode(content)) > MAX_TOKEN_LENGTH:\n",
    "                continue\n",
    "            writer.writerow([data['id'], content, json.dumps(data['labels'])])\n",
    "            "
   ],
   "metadata": {
    "collapsed": false,
    "ExecuteTime": {
     "end_time": "2024-07-26T08:00:22.098608Z",
     "start_time": "2024-07-26T08:00:22.091722Z"
    }
   },
   "id": "9c582651afe8a01f",
   "execution_count": 56
  },
  {
   "cell_type": "code",
   "outputs": [],
   "source": [
    "jsonl_input_file = '../data/train.jsonl'\n",
    "csv_output_file = 'data/train.csv'\n",
    "num_lines = 200\n",
    "convert_jsonl_to_csv_for_data_analysis(jsonl_input_file, csv_output_file, num_lines)"
   ],
   "metadata": {
    "collapsed": false,
    "ExecuteTime": {
     "end_time": "2024-07-26T04:54:55.965756Z",
     "start_time": "2024-07-26T04:54:55.047256Z"
    }
   },
   "id": "7a7d6a6627b43805",
   "execution_count": 51
  },
  {
   "cell_type": "code",
   "outputs": [],
   "source": [
    "jsonl_input_file = '../data/test.jsonl'\n",
    "jsonl_output_file = 'data/test.jsonl'\n",
    "num_lines = 30\n",
    "convert_jsonl_to_openai_format(jsonl_input_file, jsonl_output_file, num_lines)"
   ],
   "metadata": {
    "collapsed": false,
    "ExecuteTime": {
     "end_time": "2024-07-26T04:54:56.097813Z",
     "start_time": "2024-07-26T04:54:55.967445Z"
    }
   },
   "id": "658b3fb2cf5e32f0",
   "execution_count": 52
  },
  {
   "cell_type": "code",
   "outputs": [],
   "source": [
    "jsonl_input_file = '../data/train.jsonl'\n",
    "jsonl_output_file = 'data/train-2.jsonl'\n",
    "num_lines = 100\n",
    "offset = 200\n",
    "convert_jsonl_to_openai_format(jsonl_input_file, jsonl_output_file, num_lines, offset)\n",
    "convert_jsonl_to_openai_format(jsonl_input_file, 'data/test-2.jsonl', 30, 500)"
   ],
   "metadata": {
    "collapsed": false,
    "ExecuteTime": {
     "end_time": "2024-07-26T08:02:31.768268Z",
     "start_time": "2024-07-26T08:02:30.771424Z"
    }
   },
   "id": "b34f691d1287812c",
   "execution_count": 59
  },
  {
   "cell_type": "code",
   "outputs": [],
   "source": [
    "jsonl_input_file = '../data/train.jsonl'\n",
    "jsonl_output_file = 'data/train-3.jsonl'\n",
    "num_lines = 100\n",
    "offset = 300\n",
    "convert_jsonl_to_openai_format(jsonl_input_file, jsonl_output_file, num_lines, offset)\n",
    "convert_jsonl_to_openai_format(jsonl_input_file, 'data/test-3.jsonl', 30, 600)"
   ],
   "metadata": {
    "collapsed": false,
    "ExecuteTime": {
     "end_time": "2024-08-07T07:24:42.649602Z",
     "start_time": "2024-08-07T07:24:41.456807Z"
    }
   },
   "id": "8126173a3a55d29d",
   "execution_count": 7
  },
  {
   "cell_type": "code",
   "outputs": [],
   "source": [],
   "metadata": {
    "collapsed": false
   },
   "id": "aded4859919692"
  }
 ],
 "metadata": {
  "kernelspec": {
   "display_name": "Python 3",
   "language": "python",
   "name": "python3"
  },
  "language_info": {
   "codemirror_mode": {
    "name": "ipython",
    "version": 2
   },
   "file_extension": ".py",
   "mimetype": "text/x-python",
   "name": "python",
   "nbconvert_exporter": "python",
   "pygments_lexer": "ipython2",
   "version": "2.7.6"
  }
 },
 "nbformat": 4,
 "nbformat_minor": 5
}
