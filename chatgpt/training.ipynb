{
 "cells": [
  {
   "cell_type": "code",
   "execution_count": 16,
   "id": "initial_id",
   "metadata": {
    "collapsed": true,
    "ExecuteTime": {
     "end_time": "2024-08-07T07:28:09.149791Z",
     "start_time": "2024-08-07T07:28:09.142215Z"
    }
   },
   "outputs": [],
   "source": [
    "import json\n",
    "import random\n",
    "from functools import lru_cache\n",
    "\n",
    "import openai\n",
    "import tiktoken\n",
    "import pandas as pd\n",
    "import numpy as np\n",
    "from pathlib import Path"
   ]
  },
  {
   "cell_type": "code",
   "outputs": [],
   "source": [
    "def print_overview(values, name):\n",
    "  print(f\"\\n #### Distribution of {name}:\")\n",
    "  print(f\"min / max: {min(values)}, {max(values)}\")\n",
    "  print(f\"mean / median: {np.mean(values)}, {np.median(values)}\")\n",
    "  print(f\"p5 / p95: {np.quantile(values, 0.1)}, {np.quantile(values, 0.9)}\")"
   ],
   "metadata": {
    "collapsed": false,
    "ExecuteTime": {
     "end_time": "2024-08-07T07:25:13.167838Z",
     "start_time": "2024-08-07T07:25:13.156106Z"
    }
   },
   "id": "69b476afafd00d11",
   "execution_count": 2
  },
  {
   "cell_type": "code",
   "outputs": [],
   "source": [
    "dataset = []\n",
    "with open('data/train-3.jsonl') as jsonfile:\n",
    "    data = json.loads(jsonfile.readline())\n",
    "    dataset.append(data)"
   ],
   "metadata": {
    "collapsed": false,
    "ExecuteTime": {
     "end_time": "2024-08-07T07:25:55.237529Z",
     "start_time": "2024-08-07T07:25:55.211039Z"
    }
   },
   "id": "b764097ac89c98cd",
   "execution_count": 8
  },
  {
   "cell_type": "code",
   "outputs": [],
   "source": [
    "encoding = tiktoken.get_encoding(\"cl100k_base\")\n",
    "def from_message_num_tokens(messages, tokens_per_message=3, tokens_per_name=1):\n",
    "  num_tokens = 0\n",
    "  for message in messages:\n",
    "    num_tokens += tokens_per_message\n",
    "    for key, value in message.items():\n",
    "      num_tokens += len(encoding.encode(value))\n",
    "      if key==\"name\":\n",
    "        num_tokens += tokens_per_name\n",
    "\n",
    "  num_tokens +=3\n",
    "  return num_tokens\n",
    "\n",
    "def from_message_num_assistant_tokens(messages):\n",
    "  num_tokens = 0\n",
    "  for message in messages:\n",
    "    if message[\"role\"] == \"assistant\":\n",
    "      num_tokens +=len(encoding.encode(message[\"content\"]))\n",
    "\n",
    "  return num_tokens"
   ],
   "metadata": {
    "collapsed": false,
    "ExecuteTime": {
     "end_time": "2024-08-07T07:25:55.866551Z",
     "start_time": "2024-08-07T07:25:55.853451Z"
    }
   },
   "id": "dec4e3f9781817c9",
   "execution_count": 9
  },
  {
   "cell_type": "code",
   "outputs": [
    {
     "name": "stdout",
     "output_type": "stream",
     "text": [
      "Num examples missing system message: 0\n",
      "Num examples missing user message: 0\n",
      "\n",
      " #### Distribution of num_messages_per_example:\n",
      "min / max: 3, 3\n",
      "mean / median: 3.0, 3.0\n",
      "p5 / p95: 3.0, 3.0\n",
      "\n",
      " #### Distribution of num_total_tokens_per_example:\n",
      "min / max: 299, 299\n",
      "mean / median: 299.0, 299.0\n",
      "p5 / p95: 299.0, 299.0\n",
      "\n",
      " #### Distribution of num_assistant_tokens_per_example:\n",
      "min / max: 8, 8\n",
      "mean / median: 8.0, 8.0\n",
      "p5 / p95: 8.0, 8.0\n",
      "\n",
      "0 examples may be over the 4096 token limit, they will be truncated during fine-tuning\n"
     ]
    }
   ],
   "source": [
    "# tokens counts and warnings - from OpenAI cookbook\n",
    "\n",
    "n_missing_system = 0\n",
    "n_missing_user = 0\n",
    "n_messages = []\n",
    "convo_lens = []\n",
    "assistant_message_lens = []\n",
    "\n",
    "for ex in dataset:\n",
    "    messages = ex[\"messages\"]\n",
    "    if not any(message[\"role\"] == \"system\" for message in messages):\n",
    "        n_missing_system += 1\n",
    "    if not any(message[\"role\"] == \"user\" for message in messages):\n",
    "        n_missing_user += 1\n",
    "    n_messages.append(len(messages))\n",
    "    convo_lens.append(from_message_num_tokens(messages))\n",
    "    assistant_message_lens.append(from_message_num_assistant_tokens(messages))\n",
    "\n",
    "print(\"Num examples missing system message:\", n_missing_system)\n",
    "print(\"Num examples missing user message:\", n_missing_user)\n",
    "\n",
    "print_overview(n_messages, \"num_messages_per_example\")\n",
    "print_overview(convo_lens, \"num_total_tokens_per_example\")\n",
    "\n",
    "print_overview(assistant_message_lens, \"num_assistant_tokens_per_example\")\n",
    "\n",
    "n_too_long = sum(l > 4096 for l in convo_lens)\n",
    "print(f\"\\n{n_too_long} examples may be over the 4096 token limit, they will be truncated during fine-tuning\")\n"
   ],
   "metadata": {
    "collapsed": false,
    "ExecuteTime": {
     "end_time": "2024-08-07T07:25:57.174988Z",
     "start_time": "2024-08-07T07:25:57.156499Z"
    }
   },
   "id": "64aec1ebba3b2eef",
   "execution_count": 10
  },
  {
   "cell_type": "code",
   "outputs": [
    {
     "name": "stdout",
     "output_type": "stream",
     "text": [
      "Dataset has ~299 tokens that will be charged for during training\n",
      "By default, you'll train for 25 epochs on this dataset\n",
      "By default, you'll be charged for ~7475 tokens\n",
      "See pricing page to estimate total costs\n"
     ]
    }
   ],
   "source": [
    "# Pricing and default n_epochs estimate\n",
    "\n",
    "MAX_TOKENS_PER_EXAMPLE = 4096\n",
    "\n",
    "TARGET_EPOCHS = 3\n",
    "MIN_TARGET_EXAMPLES = 100\n",
    "MAX_TARGET_EXAMPLES = 25000\n",
    "MIN_DEFAULT_EPOCHS = 1\n",
    "MAX_DEFAULT_EPOCHS = 25\n",
    "\n",
    "n_epochs = TARGET_EPOCHS\n",
    "n_train_examples = len(dataset)\n",
    "if n_train_examples * TARGET_EPOCHS < MIN_TARGET_EXAMPLES:\n",
    "    n_epochs = min(MAX_DEFAULT_EPOCHS, MIN_TARGET_EXAMPLES // n_train_examples)\n",
    "elif n_train_examples * TARGET_EPOCHS > MAX_TARGET_EXAMPLES:\n",
    "    n_epochs = max(MIN_DEFAULT_EPOCHS, MAX_TARGET_EXAMPLES // n_train_examples)\n",
    "\n",
    "n_billing_tokens_in_dataset = sum(min(MAX_TOKENS_PER_EXAMPLE, length) for length in convo_lens)\n",
    "print(f\"Dataset has ~{n_billing_tokens_in_dataset} tokens that will be charged for during training\")\n",
    "print(f\"By default, you'll train for {n_epochs} epochs on this dataset\")\n",
    "print(f\"By default, you'll be charged for ~{n_epochs * n_billing_tokens_in_dataset} tokens\")\n",
    "print(\"See pricing page to estimate total costs\")\n"
   ],
   "metadata": {
    "collapsed": false,
    "ExecuteTime": {
     "end_time": "2024-08-07T07:25:59.802962Z",
     "start_time": "2024-08-07T07:25:59.797590Z"
    }
   },
   "id": "2fe1427be7e8d402",
   "execution_count": 11
  },
  {
   "cell_type": "code",
   "outputs": [],
   "source": [
    "from openai import OpenAI\n",
    "\n",
    "client = OpenAI(\n",
    "    api_key=\"\",\n",
    ")"
   ],
   "metadata": {
    "collapsed": false,
    "ExecuteTime": {
     "end_time": "2024-08-07T07:27:49.220917Z",
     "start_time": "2024-08-07T07:27:49.114781Z"
    }
   },
   "id": "810465dba7e172fe",
   "execution_count": 14
  },
  {
   "cell_type": "code",
   "outputs": [],
   "source": [
    "\n",
    "\n",
    "training_dataset_file_name = 'data/train.jsonl'\n",
    "\n",
    "training_response = client.files.create(\n",
    "    file=Path(training_dataset_file_name),\n",
    "    purpose=\"fine-tune\"\n",
    ")"
   ],
   "metadata": {
    "collapsed": false,
    "ExecuteTime": {
     "end_time": "2024-07-26T04:57:49.245796Z",
     "start_time": "2024-07-26T04:57:46.911784Z"
    }
   },
   "id": "9f71dd9c3fcf63b9",
   "execution_count": 42
  },
  {
   "cell_type": "code",
   "outputs": [
    {
     "data": {
      "text/plain": "FileObject(id='file-k54BIkStiPr2Khg6sGV5Kgxn', bytes=1351520, created_at=1721969868, filename='train.jsonl', object='file', purpose='fine-tune', status='processed', status_details=None)"
     },
     "execution_count": 43,
     "metadata": {},
     "output_type": "execute_result"
    }
   ],
   "source": [
    "training_response"
   ],
   "metadata": {
    "collapsed": false,
    "ExecuteTime": {
     "end_time": "2024-07-26T04:57:51.034234Z",
     "start_time": "2024-07-26T04:57:51.031157Z"
    }
   },
   "id": "901231737ab6f5a",
   "execution_count": 43
  },
  {
   "cell_type": "code",
   "outputs": [
    {
     "data": {
      "text/plain": "'file-k54BIkStiPr2Khg6sGV5Kgxn'"
     },
     "execution_count": 44,
     "metadata": {},
     "output_type": "execute_result"
    }
   ],
   "source": [
    "training_file_id = training_response.id\n",
    "training_file_id"
   ],
   "metadata": {
    "collapsed": false,
    "ExecuteTime": {
     "end_time": "2024-07-26T04:57:52.595365Z",
     "start_time": "2024-07-26T04:57:52.591955Z"
    }
   },
   "id": "1b58d76d4cdc68c9",
   "execution_count": 44
  },
  {
   "cell_type": "code",
   "outputs": [],
   "source": [
    "validation_dataset_file_name=\"data/test.jsonl\"\n",
    "validation_response = client.files.create(\n",
    "    file=Path(validation_dataset_file_name),\n",
    "    purpose=\"fine-tune\"\n",
    ")"
   ],
   "metadata": {
    "collapsed": false,
    "ExecuteTime": {
     "end_time": "2024-07-26T04:57:54.850903Z",
     "start_time": "2024-07-26T04:57:53.628634Z"
    }
   },
   "id": "bf5850af7df0b7cc",
   "execution_count": 45
  },
  {
   "cell_type": "code",
   "outputs": [
    {
     "name": "stdout",
     "output_type": "stream",
     "text": [
      "FileObject(id='file-88elaXqwYaUBarM9cLDOzZy2', bytes=207738, created_at=1721969874, filename='test.jsonl', object='file', purpose='fine-tune', status='processed', status_details=None)\n"
     ]
    }
   ],
   "source": [
    "print(validation_response)\n",
    "validation_file_id = validation_response.id"
   ],
   "metadata": {
    "collapsed": false,
    "ExecuteTime": {
     "end_time": "2024-07-26T04:57:55.647059Z",
     "start_time": "2024-07-26T04:57:55.640181Z"
    }
   },
   "id": "dc047f9f9137fa5f",
   "execution_count": 46
  },
  {
   "cell_type": "code",
   "outputs": [],
   "source": [
    "response = client.fine_tuning.jobs.create(\n",
    "    model = \"gpt-3.5-turbo\",\n",
    "    training_file = training_file_id,\n",
    "    validation_file = validation_file_id,\n",
    "    suffix=\"court-laws-ipc\"\n",
    ")"
   ],
   "metadata": {
    "collapsed": false,
    "ExecuteTime": {
     "end_time": "2024-07-26T04:58:45.927831Z",
     "start_time": "2024-07-26T04:58:43.558551Z"
    }
   },
   "id": "d09b9c6f8618c8ae",
   "execution_count": 48
  },
  {
   "cell_type": "code",
   "outputs": [
    {
     "data": {
      "text/plain": "FineTuningJob(id='ftjob-2Jds92lM9vs4nbeeXbbsjJ31', created_at=1721969925, error=Error(code=None, message=None, param=None), fine_tuned_model=None, finished_at=None, hyperparameters=Hyperparameters(n_epochs='auto', batch_size='auto', learning_rate_multiplier='auto'), model='gpt-3.5-turbo-0125', object='fine_tuning.job', organization_id='org-u6yUY9mn0ScUXenpviwSxtMf', result_files=[], seed=2035424682, status='validating_files', trained_tokens=None, training_file='file-k54BIkStiPr2Khg6sGV5Kgxn', validation_file='file-88elaXqwYaUBarM9cLDOzZy2', estimated_finish=None, integrations=[], user_provided_suffix='court-laws-ipc')"
     },
     "execution_count": 49,
     "metadata": {},
     "output_type": "execute_result"
    }
   ],
   "source": [
    "response"
   ],
   "metadata": {
    "collapsed": false,
    "ExecuteTime": {
     "end_time": "2024-07-26T04:58:47.323930Z",
     "start_time": "2024-07-26T04:58:47.319847Z"
    }
   },
   "id": "2eadd3b13e624564",
   "execution_count": 49
  },
  {
   "cell_type": "code",
   "outputs": [
    {
     "data": {
      "text/plain": "'ftjob-2Jds92lM9vs4nbeeXbbsjJ31'"
     },
     "execution_count": 50,
     "metadata": {},
     "output_type": "execute_result"
    }
   ],
   "source": [
    "job_id = response.id\n",
    "job_id"
   ],
   "metadata": {
    "collapsed": false,
    "ExecuteTime": {
     "end_time": "2024-07-26T04:58:50.315103Z",
     "start_time": "2024-07-26T04:58:50.299292Z"
    }
   },
   "id": "d6a338d80d73b0b",
   "execution_count": 50
  },
  {
   "cell_type": "code",
   "outputs": [
    {
     "data": {
      "text/plain": "SyncCursorPage[FineTuningJob](data=[FineTuningJob(id='ftjob-2Jds92lM9vs4nbeeXbbsjJ31', created_at=1721969925, error=Error(code=None, message=None, param=None), fine_tuned_model=None, finished_at=None, hyperparameters=Hyperparameters(n_epochs=3, batch_size=1, learning_rate_multiplier=2), model='gpt-3.5-turbo-0125', object='fine_tuning.job', organization_id='org-u6yUY9mn0ScUXenpviwSxtMf', result_files=[], seed=2035424682, status='running', trained_tokens=None, training_file='file-k54BIkStiPr2Khg6sGV5Kgxn', validation_file='file-88elaXqwYaUBarM9cLDOzZy2', estimated_finish=None, integrations=[], user_provided_suffix='court-laws-ipc'), FineTuningJob(id='ftjob-Cq00yFywXyHqvE6pgjljvSXx', created_at=1721969885, error=Error(code=None, message=None, param=None), fine_tuned_model=None, finished_at=None, hyperparameters=Hyperparameters(n_epochs=3, batch_size=1, learning_rate_multiplier=2), model='gpt-3.5-turbo-0125', object='fine_tuning.job', organization_id='org-u6yUY9mn0ScUXenpviwSxtMf', result_files=[], seed=386241314, status='cancelled', trained_tokens=None, training_file='file-k54BIkStiPr2Khg6sGV5Kgxn', validation_file='file-88elaXqwYaUBarM9cLDOzZy2', estimated_finish=None, integrations=[], user_provided_suffix='samantha-test'), FineTuningJob(id='ftjob-IbxWxbCVsCKYyZGKirn5lxPs', created_at=1721969273, error=Error(code='invalid_training_file', message=\"The job failed due to an invalid training file. Invalid file format. Example 19No completion or assistant tokens were found in the dataset (possibly because of truncation). It's likely that all assistant tokens are outside of the context window (16384 tokens). Please check your dataset or use a model with a larger context window.\", param='training_file'), fine_tuned_model=None, finished_at=None, hyperparameters=Hyperparameters(n_epochs='auto', batch_size='auto', learning_rate_multiplier='auto'), model='gpt-3.5-turbo-0125', object='fine_tuning.job', organization_id='org-u6yUY9mn0ScUXenpviwSxtMf', result_files=[], seed=325490198, status='failed', trained_tokens=None, training_file='file-SfkXHGRbRnF8kDDFqQAUh7yb', validation_file='file-n5S9OgqaEkTW8IBxBA9OER1T', estimated_finish=None, integrations=[], user_provided_suffix='court-laws-ipc'), FineTuningJob(id='ftjob-pnl7rFus1TmGnfE6yLqz6ts8', created_at=1721549653, error=Error(code=None, message=None, param=None), fine_tuned_model='ft:gpt-3.5-turbo-0125:dview-technologies-private-limited::9nMcSGHR', finished_at=1721552047, hyperparameters=Hyperparameters(n_epochs=1, batch_size=1, learning_rate_multiplier=2), model='gpt-3.5-turbo-0125', object='fine_tuning.job', organization_id='org-u6yUY9mn0ScUXenpviwSxtMf', result_files=['file-uda4n7J1cKcBQmEdQsrECqDd'], seed=1433468076, status='succeeded', trained_tokens=824631, training_file='file-X1r8QL0ioIrq8YYLh5kGqn4V', validation_file='file-ouxUvcxcCvBEe0nZnENUiWMR', estimated_finish=None, integrations=[], user_provided_suffix=None)], object='list', has_more=False)"
     },
     "execution_count": 52,
     "metadata": {},
     "output_type": "execute_result"
    }
   ],
   "source": [
    "client.fine_tuning.jobs.list(limit=5)"
   ],
   "metadata": {
    "collapsed": false,
    "ExecuteTime": {
     "end_time": "2024-07-26T04:59:13.938202Z",
     "start_time": "2024-07-26T04:59:12.943206Z"
    }
   },
   "id": "380ce9d40b55a80a",
   "execution_count": 52
  },
  {
   "cell_type": "code",
   "outputs": [
    {
     "data": {
      "text/plain": "FineTuningJob(id='ftjob-2Jds92lM9vs4nbeeXbbsjJ31', created_at=1721969925, error=Error(code=None, message=None, param=None), fine_tuned_model=None, finished_at=None, hyperparameters=Hyperparameters(n_epochs=3, batch_size=1, learning_rate_multiplier=2), model='gpt-3.5-turbo-0125', object='fine_tuning.job', organization_id='org-u6yUY9mn0ScUXenpviwSxtMf', result_files=[], seed=2035424682, status='running', trained_tokens=None, training_file='file-k54BIkStiPr2Khg6sGV5Kgxn', validation_file='file-88elaXqwYaUBarM9cLDOzZy2', estimated_finish=None, integrations=[], user_provided_suffix='court-laws-ipc')"
     },
     "execution_count": 53,
     "metadata": {},
     "output_type": "execute_result"
    }
   ],
   "source": [
    " client.fine_tuning.jobs.retrieve(job_id)"
   ],
   "metadata": {
    "collapsed": false,
    "ExecuteTime": {
     "end_time": "2024-07-26T04:59:17.304739Z",
     "start_time": "2024-07-26T04:59:16.648275Z"
    }
   },
   "id": "d1221ebf08877a45",
   "execution_count": 53
  },
  {
   "cell_type": "code",
   "outputs": [
    {
     "data": {
      "text/plain": "[FineTuningJobEvent(id='ftevent-6ClWlnp5d9LzBCK2rYljvxyp', created_at=1721969937, level='info', message='Fine-tuning job started', object='fine_tuning.job.event', data=None, type='message'),\n FineTuningJobEvent(id='ftevent-LN7Y5aqdyUOWA36r1di2KbuP', created_at=1721969929, level='info', message='Files validated, moving job to queued state', object='fine_tuning.job.event', data={}, type='message'),\n FineTuningJobEvent(id='ftevent-PBpsmcjvao7VWxF5oUr5n0VS', created_at=1721969925, level='info', message='Validating training file: file-k54BIkStiPr2Khg6sGV5Kgxn and validation file: file-88elaXqwYaUBarM9cLDOzZy2', object='fine_tuning.job.event', data={}, type='message'),\n FineTuningJobEvent(id='ftevent-EuOUz4RFlchJ5EjMrKdHZrNM', created_at=1721969925, level='info', message='Created fine-tuning job: ftjob-2Jds92lM9vs4nbeeXbbsjJ31', object='fine_tuning.job.event', data={}, type='message')]"
     },
     "execution_count": 58,
     "metadata": {},
     "output_type": "execute_result"
    }
   ],
   "source": [
    "job_response = client.fine_tuning.jobs.list_events(fine_tuning_job_id=job_id, limit=10)\n",
    "events = job_response.data\n",
    "events"
   ],
   "metadata": {
    "collapsed": false,
    "ExecuteTime": {
     "end_time": "2024-07-26T04:59:47.301262Z",
     "start_time": "2024-07-26T04:59:46.854056Z"
    }
   },
   "id": "da6ef20777dc8174",
   "execution_count": 58
  },
  {
   "cell_type": "code",
   "outputs": [],
   "source": [
    "@lru_cache()\n",
    "def get_testing_file_data():\n",
    "    test_data = []\n",
    "    with open('../data/test.jsonl', 'r') as test_json:\n",
    "        lines = test_json.readlines()    \n",
    "        for i, line in enumerate(lines):\n",
    "            test_data.append(json.loads(line))\n",
    "    return test_data\n",
    "\n",
    "def convert_raw_json_to_openai_format(raw_content):\n",
    "    return dict({\n",
    "        \"system\": \"Process the following legal case details and provide the relevant sections of the Indian Penal Code.\",\n",
    "        \"prompt\": \" \".join(raw_content[\"text\"]),\n",
    "        \"expected\": raw_content['labels']\n",
    "    })\n",
    "def get_random_line_from_testing_file():\n",
    "    test_data = get_testing_file_data()\n",
    "    index = random.randint(0, len(test_data))\n",
    "    return convert_raw_json_to_openai_format(test_data[index])"
   ],
   "metadata": {
    "collapsed": false,
    "ExecuteTime": {
     "end_time": "2024-07-26T06:10:28.308051Z",
     "start_time": "2024-07-26T06:10:28.306924Z"
    }
   },
   "id": "ee52ceb0d7eafeb2",
   "execution_count": 90
  },
  {
   "cell_type": "code",
   "outputs": [],
   "source": [
    "random_sample = get_random_line_from_testing_file()"
   ],
   "metadata": {
    "collapsed": false,
    "ExecuteTime": {
     "end_time": "2024-07-26T06:10:30.423630Z",
     "start_time": "2024-07-26T06:10:29.011014Z"
    }
   },
   "id": "444bff35920b1137",
   "execution_count": 91
  },
  {
   "cell_type": "code",
   "outputs": [
    {
     "data": {
      "text/plain": "FineTuningJob(id='ftjob-2Jds92lM9vs4nbeeXbbsjJ31', created_at=1721969925, error=Error(code=None, message=None, param=None), fine_tuned_model='ft:gpt-3.5-turbo-0125:dview-technologies-private-limited:court-laws-ipc:9p7jDn7d', finished_at=1721971461, hyperparameters=Hyperparameters(n_epochs=3, batch_size=1, learning_rate_multiplier=2), model='gpt-3.5-turbo-0125', object='fine_tuning.job', organization_id='org-u6yUY9mn0ScUXenpviwSxtMf', result_files=['file-0hc4vQGJUNryNvr5cc9a9Mia'], seed=2035424682, status='succeeded', trained_tokens=948966, training_file='file-k54BIkStiPr2Khg6sGV5Kgxn', validation_file='file-88elaXqwYaUBarM9cLDOzZy2', estimated_finish=None, integrations=[], user_provided_suffix='court-laws-ipc')"
     },
     "execution_count": 92,
     "metadata": {},
     "output_type": "execute_result"
    }
   ],
   "source": [
    "response = client.fine_tuning.jobs.retrieve(job_id)\n",
    "response"
   ],
   "metadata": {
    "collapsed": false,
    "ExecuteTime": {
     "end_time": "2024-07-26T06:10:31.545669Z",
     "start_time": "2024-07-26T06:10:30.416366Z"
    }
   },
   "id": "ac815cfc7aceb88a",
   "execution_count": 92
  },
  {
   "cell_type": "markdown",
   "source": [
    "## Fine Tuning Second Time"
   ],
   "metadata": {
    "collapsed": false
   },
   "id": "dc2c55c2f1876aaa"
  },
  {
   "cell_type": "code",
   "outputs": [
    {
     "data": {
      "text/plain": "'ft:gpt-3.5-turbo-0125:dview-technologies-private-limited:court-laws-ipc:9p7jDn7d'"
     },
     "execution_count": 93,
     "metadata": {},
     "output_type": "execute_result"
    }
   ],
   "source": [
    "fine_tune_model_id = response.fine_tuned_model\n",
    "fine_tune_model_id"
   ],
   "metadata": {
    "collapsed": false,
    "ExecuteTime": {
     "end_time": "2024-07-26T06:10:31.547281Z",
     "start_time": "2024-07-26T06:10:31.540486Z"
    }
   },
   "id": "525c0200cfd1b71b",
   "execution_count": 93
  },
  {
   "cell_type": "code",
   "outputs": [
    {
     "name": "stdout",
     "output_type": "stream",
     "text": [
      "[{'role': 'system', 'content': 'Process the following legal case details and provide the relevant sections of the Indian Penal Code.'}, {'role': 'user', 'content': 'P.W.1 was working as a driver in Metropolitan Transport Corporation, P.W.2 was working as a conductor in Bus Route No.12 B. On 08.01.2008 at about 4.30 P.M., while driving the bus near Ayyapanthangal all the accused came in a motor cycle and dashed against the bus. Thereafter, all the accused came inside the bus and A2/Appellant, attacked P.W.1 in his right chick and shoulder. P.W.2 came there to prevented them; A3 attacked him with the helmet and caused bleeding injuries. Thereafter, P.W.1 along with co-workers went to the police station and given a complaint. A2 in S.C.No.120 of 2009 on the file of the Additional & Sessions Judge \\x16 Fast Track Court No.II, Poonamallee, is the appellant herein. Totally there are 3 accused and they stood charged for the offences under Sections 341, 294 B and 332 IPC. A3 separately stood charged for the offence under Section 333 IPC and A1 and A2 stood charged for the offence under Section 333 r/w. 34 IPC. The trial Court convicted the Appellant/A2 for the offence under Section 332 IPC and sentenced him to undergo 1 year Rigorous Imprisonment and also to pay a fine of Rs.5,000/- in default to undergo 3 months Rigorous Imprisonment and acquitted A1 and A3 for the offence under Sections 341 and 294 B IPC and acquitted A3 under Section 333 IPC and A1 and A2 were also acquitted under Section 333 r/w. 34 IPC. P.W.8, Inspector of Police of the respondent police station, on receipt of the complaint, registered a case in Crime No.17 of 2008 under Sections 341, 294 (B) and 332 IPC and prepared First Information Report (Ex.P.6). Then P.W.1 and P.W.2 were sent to the Government Hospital for treatment, P.W.7, Doctor, working in a Government Hospital, Royappettah, Chennai, examined P.W.1 and P.W.2 and found the lacerated injury of the left hand of P.W.1 and issued wound certificate (Ex.P.5) and opined that it is a sample injury, and also examined P.W.2 and given wound certificate, Ex. P.4 and opined that it is grievous injury. Thereafter, P.W.8 arrested the accused, recorded their statement of other witnesses, and after completion of investigation, he filed a final report. Considering all these materials, the trial Court framed the charges as mentioned in the first paragraph of the judgement and the accused denied the same. In order to prove its case, on the side of the prosecution as many as 8 witnesses were examined and 8 documents were exhibited, besides 4 material objects. Out of the witnesses examined, P.W.1 the driver of the bus, according to him, while he was driving the bus, all the accused were came in a motor cycle and dashed against the bus and they fell down. Then A2 came inside the bus and attacked him with hands and when P.W.2, conductor came there A3 attacked him with helmet and caused bleeding injuries. According to P.W.2 all the accused attacked P.W.1 and A2 attacked him with the helmet. P.W.3 is an independent witness, according to him, A1 attacked P.W.2 ran away, he is also an attestor of observation Mahazar and Rough Sketch. P.W.4 a driver, working in Metropolitan Transport Corporation, he along with P.W.1 and P.W.2 given the complaint and he took them to hospital for treatment. P.W.5 and P.W.6 are turned hostile. P.W.7, Doctor, Government Hospital, Royapettah, examined the P.W.1 and P.W.2 and given a wound Certificate as Exs. P.W.8, Inspector of Police, who registered a case, conducted investigation and recorded the statement of witnesses, and after completion of investigation, filed the final report. When the above incriminating materials were put to the accused under Section 313 Cr.P.C., they denied the same as false. However, they did not choose to examine any witness or mark any documents. Considering all these materials, the trial Court acquitted A1 and A3 and convicted A2 as stated in the first paragraph of this judgment. Now, challenging the above said conviction and sentence the appellant/A2 is before this Court with this Criminal appeal. I have heard, Mr. A.M.Rahamath Ali, learned counsel appearing for the appellant and Mr.R.Ravichandran, learned Government Advocate appearing for the respondent and also perused the records carefully. Totally there are three accused, according to P.W.1 and P.W.2 all the three accused came in a motor cycle and dashed against the bus and fall down. Then, all the three accused came inside the bus and scolded P.W.1 in a filthy language. According to P.W.1, three persons had attacked him in right chicks, shoulders and hands. When he prevented them, appellant/A2 only attacked with helmet and caused bleeding injuries. P.W.3 is also witness to the occurrence, according to him, only A1 attacked P.W.1 and others run away. It is the evidence of P.W.1, the appellant/A2 attacked him with hands in his face, chick and shoulders. But, P.W.7, Doctor, who examined P.W.2 found lacerated injury of 1cm in his face and P.W.1, have abrasion of 5*1 cm and he did not found any other injuries. The prosecution did not examine any other witnesses besides the driver and conductor of the bus. Even in the available interested testimony of P.W.1 and P.W.2, there are lot of contradictions. P.W.1 says only appellant/A2 attacked him. P.W.2 has specifically stated that only the appellant/A2 attacked him with helmet. But P.W.1 says that A3 attacked P.W.2, whereas P.W.3, another eye witness stated that only A1 attacked P.W.1 and others ran away. Even though the evidence of injured witness is sufficient to convict the accused, but in view of the contradiction in the evidence of prosecution witnesses it is unsafe to convict the appellant. The trial Court partly disbelieved the evidence of P.W.1 and P.W.2 and acquitted other accused. Hence, I am of the considered view that the prosecution has failed to establish the guilt of the accused beyond any reasonable doubt, hence the appellant entitled for acquittal. Fine amount, if any, paid by him shall be refunded to him. Bail bond, if any executed by him, shall stand cancelled. Consequently, connected miscellaneous petition is closed. 06.12.2017Index:Yes/ NoInternet: Yes/NoSpeaking order/Non speaking orderdhToThe learned Additional & Sessions Judge A.No.780 of 200906.12.2017'}]\n"
     ]
    }
   ],
   "source": [
    "test_messages = []\n",
    "test_messages.append({\"role\": \"system\", \"content\": random_sample[\"system\"]})\n",
    "test_messages.append({\"role\": \"user\", \"content\": random_sample[\"prompt\"]})\n",
    "print(test_messages)"
   ],
   "metadata": {
    "collapsed": false,
    "ExecuteTime": {
     "end_time": "2024-07-26T06:10:39.079578Z",
     "start_time": "2024-07-26T06:10:39.037019Z"
    }
   },
   "id": "f38c37b5c9641bfc",
   "execution_count": 94
  },
  {
   "cell_type": "code",
   "outputs": [
    {
     "name": "stdout",
     "output_type": "stream",
     "text": [
      "Section 332 in The Indian Penal Code, Section 294(b) in The Indian Penal Code, Section 341 in The Indian Penal Code\n"
     ]
    }
   ],
   "source": [
    "response = client.chat.completions.create(\n",
    "    model = fine_tune_model_id,\n",
    "    messages = test_messages\n",
    ")\n",
    "\n",
    "print(response.choices[0].message.content)"
   ],
   "metadata": {
    "collapsed": false,
    "ExecuteTime": {
     "end_time": "2024-07-26T06:10:45.047415Z",
     "start_time": "2024-07-26T06:10:43.448340Z"
    }
   },
   "id": "7bf21f84e960c554",
   "execution_count": 95
  },
  {
   "cell_type": "code",
   "outputs": [
    {
     "data": {
      "text/plain": "'Section 294 in The Indian Penal Code,Section 332 in The Indian Penal Code,Section 341 in The Indian Penal Code'"
     },
     "execution_count": 98,
     "metadata": {},
     "output_type": "execute_result"
    }
   ],
   "source": [
    "\",\".join(random_sample[\"expected\"])"
   ],
   "metadata": {
    "collapsed": false,
    "ExecuteTime": {
     "end_time": "2024-07-26T06:47:14.520614Z",
     "start_time": "2024-07-26T06:47:14.510424Z"
    }
   },
   "id": "f4c3ee932b2c1ad8",
   "execution_count": 98
  },
  {
   "cell_type": "code",
   "outputs": [
    {
     "data": {
      "text/plain": "'file-97Sxxz7ExRkViin1lH3HYxVJ'"
     },
     "execution_count": 99,
     "metadata": {},
     "output_type": "execute_result"
    }
   ],
   "source": [
    "training_dataset_file_name = 'data/train-2.jsonl'\n",
    "\n",
    "training_response = client.files.create(\n",
    "    file=Path(training_dataset_file_name),\n",
    "    purpose=\"fine-tune\"\n",
    ")\n",
    "training_file_id = training_response.id\n",
    "training_file_id"
   ],
   "metadata": {
    "collapsed": false,
    "ExecuteTime": {
     "end_time": "2024-07-26T08:04:42.209920Z",
     "start_time": "2024-07-26T08:04:39.768131Z"
    }
   },
   "id": "b51edea1134db1c8",
   "execution_count": 99
  },
  {
   "cell_type": "code",
   "outputs": [],
   "source": [
    "validation_dataset_file_name=\"data/test-2.jsonl\"\n",
    "validation_response = client.files.create(\n",
    "    file=Path(validation_dataset_file_name),\n",
    "    purpose=\"fine-tune\"\n",
    ")\n",
    "validation_file_id = validation_response.id"
   ],
   "metadata": {
    "collapsed": false,
    "ExecuteTime": {
     "end_time": "2024-07-26T08:05:22.542960Z",
     "start_time": "2024-07-26T08:05:21.517778Z"
    }
   },
   "id": "334ee73d08c998f0",
   "execution_count": 100
  },
  {
   "cell_type": "code",
   "outputs": [],
   "source": [
    "response = client.fine_tuning.jobs.create(\n",
    "    model = fine_tune_model_id,\n",
    "    training_file = training_file_id,\n",
    "    validation_file = validation_file_id,\n",
    "    suffix=\"court-laws-ipc-v2\"\n",
    ")\n",
    "fine_tune_model_id = response.fine_tuned_model\n",
    "fine_tune_model_id"
   ],
   "metadata": {
    "collapsed": false,
    "ExecuteTime": {
     "end_time": "2024-07-26T08:08:22.083170Z",
     "start_time": "2024-07-26T08:08:19.081901Z"
    }
   },
   "id": "2268f3ea739b5eed",
   "execution_count": 101
  },
  {
   "cell_type": "code",
   "outputs": [
    {
     "name": "stdout",
     "output_type": "stream",
     "text": [
      "None\n"
     ]
    }
   ],
   "source": [
    "print(fine_tune_model_id)"
   ],
   "metadata": {
    "collapsed": false,
    "ExecuteTime": {
     "end_time": "2024-07-26T08:08:30.148601Z",
     "start_time": "2024-07-26T08:08:30.141340Z"
    }
   },
   "id": "79a147e8e4924d2e",
   "execution_count": 102
  },
  {
   "cell_type": "code",
   "outputs": [
    {
     "data": {
      "text/plain": "FineTuningJob(id='ftjob-l083Zot7gsrNgMycnkQJv5qD', created_at=1721981301, error=Error(code=None, message=None, param=None), fine_tuned_model=None, finished_at=None, hyperparameters=Hyperparameters(n_epochs='auto', batch_size='auto', learning_rate_multiplier='auto'), model='ft:gpt-3.5-turbo-0125:dview-technologies-private-limited:court-laws-ipc:9p7jDn7d', object='fine_tuning.job', organization_id='org-u6yUY9mn0ScUXenpviwSxtMf', result_files=[], seed=1557254246, status='validating_files', trained_tokens=None, training_file='file-97Sxxz7ExRkViin1lH3HYxVJ', validation_file='file-2pqJ9c4CZqSNqbyXzs4ubgs7', estimated_finish=None, integrations=[], user_provided_suffix='court-laws-ipc-v2')"
     },
     "execution_count": 103,
     "metadata": {},
     "output_type": "execute_result"
    }
   ],
   "source": [
    "response"
   ],
   "metadata": {
    "collapsed": false,
    "ExecuteTime": {
     "end_time": "2024-07-26T08:08:35.088190Z",
     "start_time": "2024-07-26T08:08:35.056192Z"
    }
   },
   "id": "4dafffcf219dc741",
   "execution_count": 103
  },
  {
   "cell_type": "markdown",
   "source": [
    "## Fine Tuning Third Time"
   ],
   "metadata": {
    "collapsed": false
   },
   "id": "9b0f194602d67d39"
  },
  {
   "cell_type": "code",
   "outputs": [],
   "source": [
    "fine_tune_model_id = \"ft:gpt-3.5-turbo-0125:dview-technologies-private-limited:court-laws-ipc-v2:9pAVgTwG\""
   ],
   "metadata": {
    "collapsed": false,
    "ExecuteTime": {
     "end_time": "2024-08-07T07:38:30.054529Z",
     "start_time": "2024-08-07T07:38:30.029061Z"
    }
   },
   "id": "45464cca32e330a4",
   "execution_count": 27
  },
  {
   "cell_type": "code",
   "outputs": [
    {
     "data": {
      "text/plain": "'file-b8urY1PssYlrHIJxBBSQTNc0'"
     },
     "execution_count": 17,
     "metadata": {},
     "output_type": "execute_result"
    }
   ],
   "source": [
    "training_dataset_file_name = 'data/train-3.jsonl'\n",
    "\n",
    "training_response = client.files.create(\n",
    "    file=Path(training_dataset_file_name),\n",
    "    purpose=\"fine-tune\"\n",
    ")\n",
    "training_file_id = training_response.id\n",
    "training_file_id"
   ],
   "metadata": {
    "collapsed": false,
    "ExecuteTime": {
     "end_time": "2024-08-07T07:28:15.460163Z",
     "start_time": "2024-08-07T07:28:12.829782Z"
    }
   },
   "id": "55fc424bf32cdeee",
   "execution_count": 17
  },
  {
   "cell_type": "code",
   "outputs": [],
   "source": [
    "validation_dataset_file_name=\"data/test-3.jsonl\"\n",
    "validation_response = client.files.create(\n",
    "    file=Path(validation_dataset_file_name),\n",
    "    purpose=\"fine-tune\"\n",
    ")\n",
    "validation_file_id = validation_response.id"
   ],
   "metadata": {
    "collapsed": false,
    "ExecuteTime": {
     "end_time": "2024-08-07T07:28:41.883598Z",
     "start_time": "2024-08-07T07:28:40.715553Z"
    }
   },
   "id": "b4410d16b6320d0c",
   "execution_count": 18
  },
  {
   "cell_type": "code",
   "outputs": [],
   "source": [
    "response = client.fine_tuning.jobs.create(\n",
    "    model = fine_tune_model_id,\n",
    "    training_file = training_file_id,\n",
    "    validation_file = validation_file_id,\n",
    "    suffix=\"court-laws-ipc-v3\"\n",
    ")"
   ],
   "metadata": {
    "collapsed": false,
    "ExecuteTime": {
     "end_time": "2024-08-07T07:38:35.051828Z",
     "start_time": "2024-08-07T07:38:32.679515Z"
    }
   },
   "id": "4cbaaef35ba06859",
   "execution_count": 28
  },
  {
   "cell_type": "code",
   "outputs": [
    {
     "data": {
      "text/plain": "FineTuningJob(id='ftjob-4jf0jElypvHUhoRVRgNwBrVN', created_at=1723016260, error=Error(code=None, message=None, param=None), fine_tuned_model=None, finished_at=None, hyperparameters=Hyperparameters(n_epochs='auto', batch_size='auto', learning_rate_multiplier='auto'), model='ft:gpt-3.5-turbo-0125:dview-technologies-private-limited:court-laws-ipc-v2:9pAVgTwG', object='fine_tuning.job', organization_id='org-u6yUY9mn0ScUXenpviwSxtMf', result_files=[], seed=367027819, status='validating_files', trained_tokens=None, training_file='file-b8urY1PssYlrHIJxBBSQTNc0', validation_file='file-QDP1zAZdAXlbVmcPmXlpvfRi', estimated_finish=None, integrations=[], user_provided_suffix='court-laws-ipc-v2')"
     },
     "execution_count": 24,
     "metadata": {},
     "output_type": "execute_result"
    }
   ],
   "source": [
    "response"
   ],
   "metadata": {
    "collapsed": false,
    "ExecuteTime": {
     "end_time": "2024-08-07T07:37:46.585655Z",
     "start_time": "2024-08-07T07:37:46.579416Z"
    }
   },
   "id": "83661312301f133b",
   "execution_count": 24
  },
  {
   "cell_type": "code",
   "outputs": [],
   "source": [],
   "metadata": {
    "collapsed": false
   },
   "id": "a76c7084cead12ca"
  }
 ],
 "metadata": {
  "kernelspec": {
   "display_name": "Python 3",
   "language": "python",
   "name": "python3"
  },
  "language_info": {
   "codemirror_mode": {
    "name": "ipython",
    "version": 2
   },
   "file_extension": ".py",
   "mimetype": "text/x-python",
   "name": "python",
   "nbconvert_exporter": "python",
   "pygments_lexer": "ipython2",
   "version": "2.7.6"
  }
 },
 "nbformat": 4,
 "nbformat_minor": 5
}
