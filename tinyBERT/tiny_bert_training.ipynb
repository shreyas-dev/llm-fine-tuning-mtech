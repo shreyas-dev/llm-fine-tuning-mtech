{
 "cells": [
  {
   "cell_type": "code",
   "outputs": [],
   "source": [
    "import pandas as pd\n",
    "\n",
    "df = pd.read_parquet(\"data/train.parquet\")\n",
    "df = df[:1000]"
   ],
   "metadata": {
    "collapsed": false,
    "ExecuteTime": {
     "end_time": "2024-08-20T10:15:18.458861Z",
     "start_time": "2024-08-20T10:15:17.290066Z"
    }
   },
   "id": "b2203c8a43f933a5",
   "execution_count": 1
  },
  {
   "cell_type": "code",
   "execution_count": 25,
   "id": "initial_id",
   "metadata": {
    "collapsed": true,
    "ExecuteTime": {
     "end_time": "2024-08-20T10:45:46.598198Z",
     "start_time": "2024-08-20T10:45:46.522861Z"
    }
   },
   "outputs": [
    {
     "data": {
      "text/plain": "{'text': '::: Uploaded on - 02/08/2018 ::: Downloaded on - 03/08/2018 00:44:52 ::: The case of the appellant/prosecution against the respondent(accused), in short, is as under :- PW-1 (victim) and accused were having love affairs. On06.09.2011, after dinner father of PW-1 and other family members weresleeping in the night. At about 02:00 a.m. in the night, his elder sonPankaj got up from sleep for urination. Pankaj noticed that his sister(PW-1) was talking with accused under the tree. Pankaj came back fortaking torch. In the meantime, PW-1 and accused ran away. Pankaj woke PW-2 and his family members and he narratedincident to them. Mother of PW-1 went to the house of accused. Shecame to know that accused came to house, but lateron, he left. Motherof PW-1 did not get phone number of accused. Due to fear ofdefamation, report was not lodged. Complainant took search of hisdaughter. Accused was not responding to the calls on his mobile phone. Accused was contacted from the mobile of another person. Evidence of PW-1 shows that accused taken her to Nagpur. They went to Uttar Pradesh (UP) at Khaga by ST bus. She resided therefor about two months. It is brought on record in her cross-examinationthat the brother of accused scolded them. They were taken to the Court. Marriage forms were filled in. She has stated her age as 21 years and theage of accused was 25 years. Thereafter, she was residing with accusedas his wife. She resided with accused at Khaga (UP), as his wife. She resided therefor about two to three months. Thereafter, her custody was given to her parents. As per the evidence of PW-1 herself, she went to Khaga (UP)along with accused. Accused performed marriage with her. They hadprepared document for marriage. In the document, she has stated her::: Uploaded on - 02/08/2018 ::: Downloaded on - 03/08/2018 00:44:52 ::: 7 apeal40.13age as 21 years. She resided with the accused as his wife for two-threemonths. She was willingly residing with the accused. Her father was notready for their relations. ::: Uploaded on - 02/08/2018 ::: Downloaded on - 03/08/2018 00:44:52 ::: Complainantcame to know that accused and his daughter proceeded towards Nagpur. Thereafter, report was lodged against accused. On the report of complainant dated 09.09.2011, crime wasregistered against accused. ASI Prabhakar Gainewar prepared spot::: Uploaded on - 02/08/2018 ::: Downloaded on - 03/08/2018 00:44:52 ::: 3 apeal40.13panchnama and recorded the statements of witnesses. On 02.11.2011,accused along with victim came to Ghuggus. Thereafter, accused wasarrested. At that time victim was with accused. Accused and victim weresent for medical examination. After completing investigation, charge-sheet was filed before JMFC, Chandrapur, who, in turn, committed thesame for trial to the Court of Session. ::: Uploaded on - 02/08/2018 ::: Downloaded on - 03/08/2018 00:44:52 ::: The same was readover and explained to the accused, to which, he pleaded not guilty andclaimed to be tried. The prosecution has examined seven witnesses. Atthe conclusion of trial, accused came to be acquitted. Hence, the presentappeal. Shri A.D. Sonak, learned Additional Public Prosecutor hassubmitted that victim was minor at the time of incident. Therefore, herconsent was immaterial for deciding the offence of rape. Learned APPhas pointed out the evidence of PW-1, her father (PW-2) and PW-6 Dr. Ashok Barapatre. Learned APP has submitted that as per the evidence ofPW Nos.1, 2, 3 and 6, victim was minor aged about 14-15 years at thetime of incident. There is no dispute that accused did sexual intercoursewith her. It is submitted that the learned trial Court wrongly acquittedthe accused. Offences punishable under Sections 363, 366 and 376 of::: Uploaded on - 02/08/2018 ::: Downloaded on - 03/08/2018 00:44:52 ::: 4 apeal40.13the Indian Penal Code are proved by the prosecution. Hence, prayed toallow the appeal and convict the accused. ::: Uploaded on - 02/08/2018 ::: Downloaded on - 03/08/2018 00:44:52 ::: Heard Shri Y.B. Mandpe, learned Counsel appearing on behalfof the respondent (accused). She herselfleft the house of her parents in the night. As per the evidence of herfather, she was noticed by his son in the night at about 02:00 a.m.,talking with accused. When his son entered the room for taking torch,during that time, she ran away with the accused. 9. PW-1 denied material statement recorded by police. Portionsmarked \"A\", \"B\", \"C\", \"D\" and \"E\" are proved by the Investigating Officer. PW-1 stated in her police statement that she was in love with accused. ::: Uploaded on - 02/08/2018 ::: Downloaded on - 03/08/2018 00:44:52 ::: ::: Uploaded on - 02/08/2018 ::: Downloaded on - 03/08/2018 00:44:52 ::: 5 apeal40.13Her parents were abusing. Therefore, she ran away with the accused. Her marriage was performed with the accused at Khaga (UP). She hasstated her age as 21 years in the Marriage Registration Form. Sheresided with accused as his wife. 10. PW-2 has stated in his evidence that his daughter was agedabout 14 years at the time of incident. In the intervening night of06.09.2011 and 07.09.2011, at about 02:00 a.m., his son Pankaj got upfrom sleep for urination. He found accused talking with his daughter byholding her hand. He got up him and narrated the incident. They triedto take search of accused and his daughter, but they could not find them. After three days, he lodged report in the Police Station. There is nodispute that accused had sexual relations with victim (PW-1). MedicalOfficer Selokar (PW-4) has stated in his evidence that on 03.11.2011, heexamined the victim. As per his opinion, she was habituated to sexualintercourse. There was no sign of forcible sexual intercourse. When they arrived at Ghuggus, bothwere apprehended. Accused was arrested, victim was sent for medicalexamination. It is::: Uploaded on - 02/08/2018 ::: Downloaded on - 03/08/2018 00:44:52 ::: 6 apeal40.13admitted by her in evidence that since then she is residing with herparents. It is brought on record in cross examination that accusedbelonging to other caste and, therefore, her father was not liking herrelations with accused. Report was already lodged by her father. ::: Uploaded on - 02/08/2018 ::: Downloaded on - 03/08/2018 00:44:52 ::: The prosecution has to prove material ingredients of Section375 of the Indian Penal Code (before amendment). To prove offencepunishable under Sections 363, 366 and 376 of Indian Penal Code,prosecution has to prove that at the relevant time, victim was minor and,therefore, her consent was immaterial. She has stated her age before the Courtas 15 years. In her evidence, she has stated that at the time of incident(before one year from the time of incident) she was 15 years. In herpolice statement, she has stated her age as 16 years. She has stated herage while drafting papers of marriage as 21 years. Therefore, her father lodged report. ::: Uploaded on - 02/08/2018 ::: Downloaded on - 03/08/2018 00:44:52 ::: PW-2 father of victim has stated that his daughter was agedabout 14 years at the time of incident. But, in his report (Exh.11), he hasstated her age as 15 years. PW-3 (Ku. Alka Bandawar), Headmistress ofZilla Parishad Higher Primary Hindi School at Ghuggus has producedschool register. As per the evidence of PW-3, entry in respect of date ofbirth was taken in the register without obtaining Birth Certificate orother document. Her date of birth was stated by her mother Sitadevi. Prosecution has not examined the mother of PW-1 namely Sitadevi. PW-2 has stated in his evidence that he himself entered thename of his daughter in the school. He himself stated her date of birth inthe school, but he has not stated the date of birth before the Court. Onlyhe has stated that she was 14 years at the time of incident. There ismaterial contradiction in respect of age stated by PW Nos.1 and 2.Evidence of PW-3 is not helpful to prosecution because as per the entryin the register, the date of birth was stated by the mother of victim. Mother of victim who has stated her date of birth, not examined by the::: Uploaded on - 02/08/2018 ::: Downloaded on - 03/08/2018 00:44:52 ::: 8 apeal40.13prosecution. There is no entry in the register that on what basis date ofbirth of PW-1 was recorded in the school register. ::: Uploaded on - 02/08/2018 ::: Downloaded on - 03/08/2018 00:44:52 ::: 17. PW-6 (Dr. Ashok Barapatre) has stated in his evidence that on23.05.2012, he had taken x-ray of victim. He has conducted ossificationtest to determine the age of victim. As per his opinion, she was inbetween 14 and 16 years. Margin of two years can be taken intoconsideration on either side. This itself shows that she was more than 18years at the time of incident. This itself is clear that to fill up the lacuna, prosecutionhas examined PW-6 (Dr. Barapatre) who has stated that on 23.05.2012,he has conducted ossification test. Therefore, evidence of Dr. Barapatre cannot be taken into consideration. Even if the evidence of Dr. Barapatre is taken into consideration then also victim was more than 18years. Evidence of victim itself shows that she was 21 years at the timeof incident. She herself stated her age as 21 years when the marriageforms were filled in at Khaga. Prosecution has miserably failed to prove that victim was::: Uploaded on - 02/08/2018 ::: Downloaded on - 03/08/2018 00:44:52 ::: 9 apeal40.13minor i.e. below 16 years at the time of incident. On the other hand, itappears that victim was more than 18 years at the time of incident. Thereis no dispute that she herself went with the accused. Her father was notliking her relations with accused. Her evidence shows that she was inlove with accused. She voluntarily resided with accused as his wife fortwo-three months. Prosecution has miserably failed to prove the offencecharged against the accused. Learned trial Court has rightly acquittedthe accused. ::: Uploaded on - 02/08/2018 ::: Downloaded on - 03/08/2018 00:44:52 ::: R and P be sent back. ::: Uploaded on - 02/08/2018 ::: Downloaded on - 03/08/2018 00:44:52 :::',\n 'labels': ['363', '376', '366', '375']}"
     },
     "execution_count": 25,
     "metadata": {},
     "output_type": "execute_result"
    }
   ],
   "source": [
    "from datasets import Dataset\n",
    "\n",
    "dataset = Dataset.from_pandas(df)\n",
    "\n",
    "dataset = dataset.train_test_split(test_size=0.1)\n",
    "\n",
    "dataset['train'][0]"
   ]
  },
  {
   "cell_type": "code",
   "outputs": [],
   "source": [
    "from utils import get_all_ipc_codes\n",
    "\n",
    "id2label = {ipc : f'Section {ipc} in The Indian Penal Code' for ipc in get_all_ipc_codes()}\n",
    "\n",
    "label2id = {value: key for key,value in id2label.items()}"
   ],
   "metadata": {
    "collapsed": false,
    "ExecuteTime": {
     "end_time": "2024-08-20T10:15:22.550909Z",
     "start_time": "2024-08-20T10:15:22.545471Z"
    }
   },
   "id": "aa5d88dd6cac5492",
   "execution_count": 3
  },
  {
   "cell_type": "code",
   "outputs": [
    {
     "name": "stderr",
     "output_type": "stream",
     "text": [
      "/Users/shreyasb/Library/Caches/pypoetry/virtualenvs/mtech-dissertation-1JO5IRnR-py3.11/lib/python3.11/site-packages/transformers/tokenization_utils_base.py:1601: FutureWarning: `clean_up_tokenization_spaces` was not set. It will be set to `True` by default. This behavior will be depracted in transformers v4.45, and will be then set to `False` by default. For more details check this issue: https://github.com/huggingface/transformers/issues/31884\n",
      "  warnings.warn(\n"
     ]
    }
   ],
   "source": [
    "from transformers import AutoTokenizer\n",
    "import torch\n",
    "\n",
    "device = torch.device(\"cuda\" if torch.cuda.is_available() else \"cpu\")\n",
    "\n",
    "model_ckpt = 'huawei-noah/TinyBERT_General_4L_312D'\n",
    "\n",
    "tokenizer = AutoTokenizer.from_pretrained(model_ckpt, use_fast=True)"
   ],
   "metadata": {
    "collapsed": false,
    "ExecuteTime": {
     "end_time": "2024-08-20T10:15:29.318399Z",
     "start_time": "2024-08-20T10:15:25.715043Z"
    }
   },
   "id": "5bad798bacd020fc",
   "execution_count": 4
  },
  {
   "cell_type": "code",
   "outputs": [
    {
     "data": {
      "text/plain": "Map:   0%|          | 0/900 [00:00<?, ? examples/s]",
      "application/vnd.jupyter.widget-view+json": {
       "version_major": 2,
       "version_minor": 0,
       "model_id": "3ace4e11dd3e4507accbe0a52590bffc"
      }
     },
     "metadata": {},
     "output_type": "display_data"
    },
    {
     "data": {
      "text/plain": "Map:   0%|          | 0/100 [00:00<?, ? examples/s]",
      "application/vnd.jupyter.widget-view+json": {
       "version_major": 2,
       "version_minor": 0,
       "model_id": "91a4c39dba094369ac783a8646b8b8b4"
      }
     },
     "metadata": {},
     "output_type": "display_data"
    }
   ],
   "source": [
    "\n",
    "def tokenize(batch):\n",
    "    # Tokenize the text\n",
    "    tokenized = tokenizer(batch['text'], padding=True, truncation=True, max_length=512)\n",
    "    \n",
    "    # Prepare the labels\n",
    "    labels = []\n",
    "    for label_list in batch['labels']:\n",
    "        label_tensor = torch.zeros(len(id2label))\n",
    "        for label in label_list:\n",
    "            if label in label2id:\n",
    "                label_tensor[label2id[label]] = 1\n",
    "        labels.append(label_tensor.tolist())\n",
    "    \n",
    "    # Add labels to the tokenized output\n",
    "    tokenized['labels'] = labels\n",
    "    \n",
    "    return tokenized\n",
    "\n",
    "# Apply the tokenization function to the dataset\n",
    "dataset = dataset.map(tokenize, batched=True, batch_size=None, remove_columns=['text', 'labels'])\n",
    "\n",
    "# Set the format of the dataset to PyTorch tensors\n",
    "dataset.set_format('torch')"
   ],
   "metadata": {
    "collapsed": false,
    "ExecuteTime": {
     "end_time": "2024-08-20T10:47:04.665387Z",
     "start_time": "2024-08-20T10:47:03.534035Z"
    }
   },
   "id": "b6ac59dbd0edfc",
   "execution_count": 28
  },
  {
   "cell_type": "code",
   "outputs": [],
   "source": [
    "distinct_labels = set(label for sublist in df['labels'] for label in sublist)"
   ],
   "metadata": {
    "collapsed": false,
    "ExecuteTime": {
     "end_time": "2024-08-20T10:47:11.860562Z",
     "start_time": "2024-08-20T10:47:11.857462Z"
    }
   },
   "id": "8010c79989af806b",
   "execution_count": 29
  },
  {
   "cell_type": "code",
   "outputs": [],
   "source": [
    "id2label = {ipc : f'Section {ipc} in The Indian Penal Code' for ipc in distinct_labels}\n",
    "\n",
    "label2id = {value: key for key,value in id2label.items()}"
   ],
   "metadata": {
    "collapsed": false,
    "ExecuteTime": {
     "end_time": "2024-08-20T10:47:14.109856Z",
     "start_time": "2024-08-20T10:47:14.101070Z"
    }
   },
   "id": "9032a72dd0d60f54",
   "execution_count": 30
  },
  {
   "cell_type": "code",
   "outputs": [
    {
     "name": "stderr",
     "output_type": "stream",
     "text": [
      "Some weights of BertForSequenceClassification were not initialized from the model checkpoint at huawei-noah/TinyBERT_General_4L_312D and are newly initialized: ['classifier.bias', 'classifier.weight']\n",
      "You should probably TRAIN this model on a down-stream task to be able to use it for predictions and inference.\n"
     ]
    }
   ],
   "source": [
    "from transformers import AutoModelForSequenceClassification, TrainingArguments, Trainer\n",
    "\n",
    "model = AutoModelForSequenceClassification.from_pretrained(\n",
    "    model_ckpt,\n",
    "    num_labels=len(id2label),\n",
    "    id2label=id2label,\n",
    "    label2id=label2id,\n",
    "    problem_type=\"multi_label_classification\",\n",
    "    torch_dtype=torch.float16  # Add this line\n",
    ")"
   ],
   "metadata": {
    "collapsed": false,
    "ExecuteTime": {
     "end_time": "2024-08-20T10:48:32.460971Z",
     "start_time": "2024-08-20T10:48:31.392987Z"
    }
   },
   "id": "4e5bb016c6b2c57d",
   "execution_count": 37
  },
  {
   "cell_type": "code",
   "outputs": [],
   "source": [
    "training_args = TrainingArguments(\n",
    "   output_dir=\"model/v1\",\n",
    "   learning_rate=2e-5,\n",
    "   per_device_train_batch_size=3,\n",
    "   per_device_eval_batch_size=3,\n",
    "   num_train_epochs=2,\n",
    "   weight_decay=0.01,\n",
    "   eval_strategy=\"epoch\",\n",
    "   save_strategy=\"epoch\",\n",
    "   load_best_model_at_end=True,\n",
    ")"
   ],
   "metadata": {
    "collapsed": false,
    "ExecuteTime": {
     "end_time": "2024-08-20T10:47:18.334837Z",
     "start_time": "2024-08-20T10:47:18.330640Z"
    }
   },
   "id": "52b1213699cf0c0c",
   "execution_count": 32
  },
  {
   "cell_type": "code",
   "outputs": [],
   "source": [
    "from transformers import DataCollatorWithPadding\n",
    "\n",
    "data_collator = DataCollatorWithPadding(tokenizer=tokenizer)"
   ],
   "metadata": {
    "collapsed": false,
    "ExecuteTime": {
     "end_time": "2024-08-20T10:47:20.699713Z",
     "start_time": "2024-08-20T10:47:20.697179Z"
    }
   },
   "id": "82cf9062994cf0dc",
   "execution_count": 33
  },
  {
   "cell_type": "code",
   "outputs": [],
   "source": [
    "import numpy as np\n",
    "from sklearn.metrics import f1_score, precision_score, recall_score\n",
    "import evaluate\n",
    "\n",
    "def sigmoid(x):\n",
    "    return 1 / (1 + np.exp(-x))\n",
    "\n",
    "def compute_metrics(eval_pred):\n",
    "    predictions, labels = eval_pred\n",
    "    # Apply sigmoid to get probabilities\n",
    "    probs = sigmoid(predictions)\n",
    "    # Use 0.5 as the threshold for positive prediction\n",
    "    y_pred = (probs > 0.5).astype(int)\n",
    "    y_true = labels\n",
    "\n",
    "    # Compute metrics\n",
    "    f1_micro = f1_score(y_true, y_pred, average='micro')\n",
    "    f1_macro = f1_score(y_true, y_pred, average='macro')\n",
    "    precision_micro = precision_score(y_true, y_pred, average='micro')\n",
    "    precision_macro = precision_score(y_true, y_pred, average='macro')\n",
    "    recall_micro = recall_score(y_true, y_pred, average='micro')\n",
    "    recall_macro = recall_score(y_true, y_pred, average='macro')\n",
    "\n",
    "    # Compute AUROC\n",
    "    auroc = evaluate.load(\"roc_auc\")\n",
    "    auroc_score = auroc.compute(references=y_true, prediction_scores=probs, average='macro')['roc_auc']\n",
    "\n",
    "    return {\n",
    "        'f1_micro': f1_micro,\n",
    "        'f1_macro': f1_macro,\n",
    "        'precision_micro': precision_micro,\n",
    "        'precision_macro': precision_macro,\n",
    "        'recall_micro': recall_micro,\n",
    "        'recall_macro': recall_macro,\n",
    "        'auroc': auroc_score\n",
    "    }"
   ],
   "metadata": {
    "collapsed": false,
    "ExecuteTime": {
     "end_time": "2024-08-20T10:47:21.388734Z",
     "start_time": "2024-08-20T10:47:21.385444Z"
    }
   },
   "id": "d625cef64c8090d3",
   "execution_count": 34
  },
  {
   "cell_type": "code",
   "outputs": [],
   "source": [
    "trainer = Trainer(\n",
    "   model=model,\n",
    "   args=training_args,\n",
    "   train_dataset=dataset[\"train\"],\n",
    "   eval_dataset=dataset[\"test\"],\n",
    "   tokenizer=tokenizer,\n",
    "   data_collator=data_collator,\n",
    "   compute_metrics=compute_metrics,\n",
    ")"
   ],
   "metadata": {
    "collapsed": false,
    "ExecuteTime": {
     "end_time": "2024-08-20T10:53:53.848102Z",
     "start_time": "2024-08-20T10:53:53.150351Z"
    }
   },
   "id": "a1a5af2753eb7855",
   "execution_count": 38
  },
  {
   "cell_type": "code",
   "outputs": [
    {
     "ename": "ValueError",
     "evalue": "Unable to avoid copy while creating an array as requested.\nIf using `np.array(obj, copy=False)` replace it with `np.asarray(obj)` to allow a copy when needed (no behavior change in NumPy 1.x).\nFor more details, see https://numpy.org/devdocs/numpy_2_0_migration_guide.html#adapting-to-changes-in-the-copy-keyword.",
     "output_type": "error",
     "traceback": [
      "\u001B[0;31m---------------------------------------------------------------------------\u001B[0m",
      "\u001B[0;31mValueError\u001B[0m                                Traceback (most recent call last)",
      "Cell \u001B[0;32mIn[39], line 1\u001B[0m\n\u001B[0;32m----> 1\u001B[0m \u001B[43mtrainer\u001B[49m\u001B[38;5;241;43m.\u001B[39;49m\u001B[43mtrain\u001B[49m\u001B[43m(\u001B[49m\u001B[43m)\u001B[49m\n",
      "File \u001B[0;32m~/Library/Caches/pypoetry/virtualenvs/mtech-dissertation-1JO5IRnR-py3.11/lib/python3.11/site-packages/transformers/trainer.py:1948\u001B[0m, in \u001B[0;36mTrainer.train\u001B[0;34m(self, resume_from_checkpoint, trial, ignore_keys_for_eval, **kwargs)\u001B[0m\n\u001B[1;32m   1946\u001B[0m         hf_hub_utils\u001B[38;5;241m.\u001B[39menable_progress_bars()\n\u001B[1;32m   1947\u001B[0m \u001B[38;5;28;01melse\u001B[39;00m:\n\u001B[0;32m-> 1948\u001B[0m     \u001B[38;5;28;01mreturn\u001B[39;00m \u001B[43minner_training_loop\u001B[49m\u001B[43m(\u001B[49m\n\u001B[1;32m   1949\u001B[0m \u001B[43m        \u001B[49m\u001B[43margs\u001B[49m\u001B[38;5;241;43m=\u001B[39;49m\u001B[43margs\u001B[49m\u001B[43m,\u001B[49m\n\u001B[1;32m   1950\u001B[0m \u001B[43m        \u001B[49m\u001B[43mresume_from_checkpoint\u001B[49m\u001B[38;5;241;43m=\u001B[39;49m\u001B[43mresume_from_checkpoint\u001B[49m\u001B[43m,\u001B[49m\n\u001B[1;32m   1951\u001B[0m \u001B[43m        \u001B[49m\u001B[43mtrial\u001B[49m\u001B[38;5;241;43m=\u001B[39;49m\u001B[43mtrial\u001B[49m\u001B[43m,\u001B[49m\n\u001B[1;32m   1952\u001B[0m \u001B[43m        \u001B[49m\u001B[43mignore_keys_for_eval\u001B[49m\u001B[38;5;241;43m=\u001B[39;49m\u001B[43mignore_keys_for_eval\u001B[49m\u001B[43m,\u001B[49m\n\u001B[1;32m   1953\u001B[0m \u001B[43m    \u001B[49m\u001B[43m)\u001B[49m\n",
      "File \u001B[0;32m~/Library/Caches/pypoetry/virtualenvs/mtech-dissertation-1JO5IRnR-py3.11/lib/python3.11/site-packages/transformers/trainer.py:2246\u001B[0m, in \u001B[0;36mTrainer._inner_training_loop\u001B[0;34m(self, batch_size, args, resume_from_checkpoint, trial, ignore_keys_for_eval)\u001B[0m\n\u001B[1;32m   2243\u001B[0m     rng_to_sync \u001B[38;5;241m=\u001B[39m \u001B[38;5;28;01mTrue\u001B[39;00m\n\u001B[1;32m   2245\u001B[0m step \u001B[38;5;241m=\u001B[39m \u001B[38;5;241m-\u001B[39m\u001B[38;5;241m1\u001B[39m\n\u001B[0;32m-> 2246\u001B[0m \u001B[43m\u001B[49m\u001B[38;5;28;43;01mfor\u001B[39;49;00m\u001B[43m \u001B[49m\u001B[43mstep\u001B[49m\u001B[43m,\u001B[49m\u001B[43m \u001B[49m\u001B[43minputs\u001B[49m\u001B[43m \u001B[49m\u001B[38;5;129;43;01min\u001B[39;49;00m\u001B[43m \u001B[49m\u001B[38;5;28;43menumerate\u001B[39;49m\u001B[43m(\u001B[49m\u001B[43mepoch_iterator\u001B[49m\u001B[43m)\u001B[49m\u001B[43m:\u001B[49m\n\u001B[1;32m   2247\u001B[0m \u001B[43m    \u001B[49m\u001B[43mtotal_batched_samples\u001B[49m\u001B[43m \u001B[49m\u001B[38;5;241;43m+\u001B[39;49m\u001B[38;5;241;43m=\u001B[39;49m\u001B[43m \u001B[49m\u001B[38;5;241;43m1\u001B[39;49m\n\u001B[1;32m   2249\u001B[0m \u001B[43m    \u001B[49m\u001B[38;5;28;43;01mif\u001B[39;49;00m\u001B[43m \u001B[49m\u001B[38;5;28;43mself\u001B[39;49m\u001B[38;5;241;43m.\u001B[39;49m\u001B[43margs\u001B[49m\u001B[38;5;241;43m.\u001B[39;49m\u001B[43minclude_num_input_tokens_seen\u001B[49m\u001B[43m:\u001B[49m\n",
      "File \u001B[0;32m~/Library/Caches/pypoetry/virtualenvs/mtech-dissertation-1JO5IRnR-py3.11/lib/python3.11/site-packages/accelerate/data_loader.py:454\u001B[0m, in \u001B[0;36mDataLoaderShard.__iter__\u001B[0;34m(self)\u001B[0m\n\u001B[1;32m    452\u001B[0m \u001B[38;5;66;03m# We iterate one batch ahead to check when we are at the end\u001B[39;00m\n\u001B[1;32m    453\u001B[0m \u001B[38;5;28;01mtry\u001B[39;00m:\n\u001B[0;32m--> 454\u001B[0m     current_batch \u001B[38;5;241m=\u001B[39m \u001B[38;5;28;43mnext\u001B[39;49m\u001B[43m(\u001B[49m\u001B[43mdataloader_iter\u001B[49m\u001B[43m)\u001B[49m\n\u001B[1;32m    455\u001B[0m \u001B[38;5;28;01mexcept\u001B[39;00m \u001B[38;5;167;01mStopIteration\u001B[39;00m:\n\u001B[1;32m    456\u001B[0m     \u001B[38;5;28;01myield\u001B[39;00m\n",
      "File \u001B[0;32m~/Library/Caches/pypoetry/virtualenvs/mtech-dissertation-1JO5IRnR-py3.11/lib/python3.11/site-packages/torch/utils/data/dataloader.py:630\u001B[0m, in \u001B[0;36m_BaseDataLoaderIter.__next__\u001B[0;34m(self)\u001B[0m\n\u001B[1;32m    627\u001B[0m \u001B[38;5;28;01mif\u001B[39;00m \u001B[38;5;28mself\u001B[39m\u001B[38;5;241m.\u001B[39m_sampler_iter \u001B[38;5;129;01mis\u001B[39;00m \u001B[38;5;28;01mNone\u001B[39;00m:\n\u001B[1;32m    628\u001B[0m     \u001B[38;5;66;03m# TODO(https://github.com/pytorch/pytorch/issues/76750)\u001B[39;00m\n\u001B[1;32m    629\u001B[0m     \u001B[38;5;28mself\u001B[39m\u001B[38;5;241m.\u001B[39m_reset()  \u001B[38;5;66;03m# type: ignore[call-arg]\u001B[39;00m\n\u001B[0;32m--> 630\u001B[0m data \u001B[38;5;241m=\u001B[39m \u001B[38;5;28;43mself\u001B[39;49m\u001B[38;5;241;43m.\u001B[39;49m\u001B[43m_next_data\u001B[49m\u001B[43m(\u001B[49m\u001B[43m)\u001B[49m\n\u001B[1;32m    631\u001B[0m \u001B[38;5;28mself\u001B[39m\u001B[38;5;241m.\u001B[39m_num_yielded \u001B[38;5;241m+\u001B[39m\u001B[38;5;241m=\u001B[39m \u001B[38;5;241m1\u001B[39m\n\u001B[1;32m    632\u001B[0m \u001B[38;5;28;01mif\u001B[39;00m \u001B[38;5;28mself\u001B[39m\u001B[38;5;241m.\u001B[39m_dataset_kind \u001B[38;5;241m==\u001B[39m _DatasetKind\u001B[38;5;241m.\u001B[39mIterable \u001B[38;5;129;01mand\u001B[39;00m \\\n\u001B[1;32m    633\u001B[0m         \u001B[38;5;28mself\u001B[39m\u001B[38;5;241m.\u001B[39m_IterableDataset_len_called \u001B[38;5;129;01mis\u001B[39;00m \u001B[38;5;129;01mnot\u001B[39;00m \u001B[38;5;28;01mNone\u001B[39;00m \u001B[38;5;129;01mand\u001B[39;00m \\\n\u001B[1;32m    634\u001B[0m         \u001B[38;5;28mself\u001B[39m\u001B[38;5;241m.\u001B[39m_num_yielded \u001B[38;5;241m>\u001B[39m \u001B[38;5;28mself\u001B[39m\u001B[38;5;241m.\u001B[39m_IterableDataset_len_called:\n",
      "File \u001B[0;32m~/Library/Caches/pypoetry/virtualenvs/mtech-dissertation-1JO5IRnR-py3.11/lib/python3.11/site-packages/torch/utils/data/dataloader.py:673\u001B[0m, in \u001B[0;36m_SingleProcessDataLoaderIter._next_data\u001B[0;34m(self)\u001B[0m\n\u001B[1;32m    671\u001B[0m \u001B[38;5;28;01mdef\u001B[39;00m \u001B[38;5;21m_next_data\u001B[39m(\u001B[38;5;28mself\u001B[39m):\n\u001B[1;32m    672\u001B[0m     index \u001B[38;5;241m=\u001B[39m \u001B[38;5;28mself\u001B[39m\u001B[38;5;241m.\u001B[39m_next_index()  \u001B[38;5;66;03m# may raise StopIteration\u001B[39;00m\n\u001B[0;32m--> 673\u001B[0m     data \u001B[38;5;241m=\u001B[39m \u001B[38;5;28;43mself\u001B[39;49m\u001B[38;5;241;43m.\u001B[39;49m\u001B[43m_dataset_fetcher\u001B[49m\u001B[38;5;241;43m.\u001B[39;49m\u001B[43mfetch\u001B[49m\u001B[43m(\u001B[49m\u001B[43mindex\u001B[49m\u001B[43m)\u001B[49m  \u001B[38;5;66;03m# may raise StopIteration\u001B[39;00m\n\u001B[1;32m    674\u001B[0m     \u001B[38;5;28;01mif\u001B[39;00m \u001B[38;5;28mself\u001B[39m\u001B[38;5;241m.\u001B[39m_pin_memory:\n\u001B[1;32m    675\u001B[0m         data \u001B[38;5;241m=\u001B[39m _utils\u001B[38;5;241m.\u001B[39mpin_memory\u001B[38;5;241m.\u001B[39mpin_memory(data, \u001B[38;5;28mself\u001B[39m\u001B[38;5;241m.\u001B[39m_pin_memory_device)\n",
      "File \u001B[0;32m~/Library/Caches/pypoetry/virtualenvs/mtech-dissertation-1JO5IRnR-py3.11/lib/python3.11/site-packages/torch/utils/data/_utils/fetch.py:50\u001B[0m, in \u001B[0;36m_MapDatasetFetcher.fetch\u001B[0;34m(self, possibly_batched_index)\u001B[0m\n\u001B[1;32m     48\u001B[0m \u001B[38;5;28;01mif\u001B[39;00m \u001B[38;5;28mself\u001B[39m\u001B[38;5;241m.\u001B[39mauto_collation:\n\u001B[1;32m     49\u001B[0m     \u001B[38;5;28;01mif\u001B[39;00m \u001B[38;5;28mhasattr\u001B[39m(\u001B[38;5;28mself\u001B[39m\u001B[38;5;241m.\u001B[39mdataset, \u001B[38;5;124m\"\u001B[39m\u001B[38;5;124m__getitems__\u001B[39m\u001B[38;5;124m\"\u001B[39m) \u001B[38;5;129;01mand\u001B[39;00m \u001B[38;5;28mself\u001B[39m\u001B[38;5;241m.\u001B[39mdataset\u001B[38;5;241m.\u001B[39m__getitems__:\n\u001B[0;32m---> 50\u001B[0m         data \u001B[38;5;241m=\u001B[39m \u001B[38;5;28;43mself\u001B[39;49m\u001B[38;5;241;43m.\u001B[39;49m\u001B[43mdataset\u001B[49m\u001B[38;5;241;43m.\u001B[39;49m\u001B[43m__getitems__\u001B[49m\u001B[43m(\u001B[49m\u001B[43mpossibly_batched_index\u001B[49m\u001B[43m)\u001B[49m\n\u001B[1;32m     51\u001B[0m     \u001B[38;5;28;01melse\u001B[39;00m:\n\u001B[1;32m     52\u001B[0m         data \u001B[38;5;241m=\u001B[39m [\u001B[38;5;28mself\u001B[39m\u001B[38;5;241m.\u001B[39mdataset[idx] \u001B[38;5;28;01mfor\u001B[39;00m idx \u001B[38;5;129;01min\u001B[39;00m possibly_batched_index]\n",
      "File \u001B[0;32m~/Library/Caches/pypoetry/virtualenvs/mtech-dissertation-1JO5IRnR-py3.11/lib/python3.11/site-packages/datasets/arrow_dataset.py:2870\u001B[0m, in \u001B[0;36mDataset.__getitems__\u001B[0;34m(self, keys)\u001B[0m\n\u001B[1;32m   2868\u001B[0m \u001B[38;5;28;01mdef\u001B[39;00m \u001B[38;5;21m__getitems__\u001B[39m(\u001B[38;5;28mself\u001B[39m, keys: List) \u001B[38;5;241m-\u001B[39m\u001B[38;5;241m>\u001B[39m List:\n\u001B[1;32m   2869\u001B[0m \u001B[38;5;250m    \u001B[39m\u001B[38;5;124;03m\"\"\"Can be used to get a batch using a list of integers indices.\"\"\"\u001B[39;00m\n\u001B[0;32m-> 2870\u001B[0m     batch \u001B[38;5;241m=\u001B[39m \u001B[38;5;28;43mself\u001B[39;49m\u001B[38;5;241;43m.\u001B[39;49m\u001B[38;5;21;43m__getitem__\u001B[39;49m\u001B[43m(\u001B[49m\u001B[43mkeys\u001B[49m\u001B[43m)\u001B[49m\n\u001B[1;32m   2871\u001B[0m     n_examples \u001B[38;5;241m=\u001B[39m \u001B[38;5;28mlen\u001B[39m(batch[\u001B[38;5;28mnext\u001B[39m(\u001B[38;5;28miter\u001B[39m(batch))])\n\u001B[1;32m   2872\u001B[0m     \u001B[38;5;28;01mreturn\u001B[39;00m [{col: array[i] \u001B[38;5;28;01mfor\u001B[39;00m col, array \u001B[38;5;129;01min\u001B[39;00m batch\u001B[38;5;241m.\u001B[39mitems()} \u001B[38;5;28;01mfor\u001B[39;00m i \u001B[38;5;129;01min\u001B[39;00m \u001B[38;5;28mrange\u001B[39m(n_examples)]\n",
      "File \u001B[0;32m~/Library/Caches/pypoetry/virtualenvs/mtech-dissertation-1JO5IRnR-py3.11/lib/python3.11/site-packages/datasets/arrow_dataset.py:2866\u001B[0m, in \u001B[0;36mDataset.__getitem__\u001B[0;34m(self, key)\u001B[0m\n\u001B[1;32m   2864\u001B[0m \u001B[38;5;28;01mdef\u001B[39;00m \u001B[38;5;21m__getitem__\u001B[39m(\u001B[38;5;28mself\u001B[39m, key):  \u001B[38;5;66;03m# noqa: F811\u001B[39;00m\n\u001B[1;32m   2865\u001B[0m \u001B[38;5;250m    \u001B[39m\u001B[38;5;124;03m\"\"\"Can be used to index columns (by string names) or rows (by integer index or iterable of indices or bools).\"\"\"\u001B[39;00m\n\u001B[0;32m-> 2866\u001B[0m     \u001B[38;5;28;01mreturn\u001B[39;00m \u001B[38;5;28;43mself\u001B[39;49m\u001B[38;5;241;43m.\u001B[39;49m\u001B[43m_getitem\u001B[49m\u001B[43m(\u001B[49m\u001B[43mkey\u001B[49m\u001B[43m)\u001B[49m\n",
      "File \u001B[0;32m~/Library/Caches/pypoetry/virtualenvs/mtech-dissertation-1JO5IRnR-py3.11/lib/python3.11/site-packages/datasets/arrow_dataset.py:2851\u001B[0m, in \u001B[0;36mDataset._getitem\u001B[0;34m(self, key, **kwargs)\u001B[0m\n\u001B[1;32m   2849\u001B[0m formatter \u001B[38;5;241m=\u001B[39m get_formatter(format_type, features\u001B[38;5;241m=\u001B[39m\u001B[38;5;28mself\u001B[39m\u001B[38;5;241m.\u001B[39m_info\u001B[38;5;241m.\u001B[39mfeatures, \u001B[38;5;241m*\u001B[39m\u001B[38;5;241m*\u001B[39mformat_kwargs)\n\u001B[1;32m   2850\u001B[0m pa_subtable \u001B[38;5;241m=\u001B[39m query_table(\u001B[38;5;28mself\u001B[39m\u001B[38;5;241m.\u001B[39m_data, key, indices\u001B[38;5;241m=\u001B[39m\u001B[38;5;28mself\u001B[39m\u001B[38;5;241m.\u001B[39m_indices)\n\u001B[0;32m-> 2851\u001B[0m formatted_output \u001B[38;5;241m=\u001B[39m \u001B[43mformat_table\u001B[49m\u001B[43m(\u001B[49m\n\u001B[1;32m   2852\u001B[0m \u001B[43m    \u001B[49m\u001B[43mpa_subtable\u001B[49m\u001B[43m,\u001B[49m\u001B[43m \u001B[49m\u001B[43mkey\u001B[49m\u001B[43m,\u001B[49m\u001B[43m \u001B[49m\u001B[43mformatter\u001B[49m\u001B[38;5;241;43m=\u001B[39;49m\u001B[43mformatter\u001B[49m\u001B[43m,\u001B[49m\u001B[43m \u001B[49m\u001B[43mformat_columns\u001B[49m\u001B[38;5;241;43m=\u001B[39;49m\u001B[43mformat_columns\u001B[49m\u001B[43m,\u001B[49m\u001B[43m \u001B[49m\u001B[43moutput_all_columns\u001B[49m\u001B[38;5;241;43m=\u001B[39;49m\u001B[43moutput_all_columns\u001B[49m\n\u001B[1;32m   2853\u001B[0m \u001B[43m\u001B[49m\u001B[43m)\u001B[49m\n\u001B[1;32m   2854\u001B[0m \u001B[38;5;28;01mreturn\u001B[39;00m formatted_output\n",
      "File \u001B[0;32m~/Library/Caches/pypoetry/virtualenvs/mtech-dissertation-1JO5IRnR-py3.11/lib/python3.11/site-packages/datasets/formatting/formatting.py:633\u001B[0m, in \u001B[0;36mformat_table\u001B[0;34m(table, key, formatter, format_columns, output_all_columns)\u001B[0m\n\u001B[1;32m    631\u001B[0m python_formatter \u001B[38;5;241m=\u001B[39m PythonFormatter(features\u001B[38;5;241m=\u001B[39mformatter\u001B[38;5;241m.\u001B[39mfeatures)\n\u001B[1;32m    632\u001B[0m \u001B[38;5;28;01mif\u001B[39;00m format_columns \u001B[38;5;129;01mis\u001B[39;00m \u001B[38;5;28;01mNone\u001B[39;00m:\n\u001B[0;32m--> 633\u001B[0m     \u001B[38;5;28;01mreturn\u001B[39;00m \u001B[43mformatter\u001B[49m\u001B[43m(\u001B[49m\u001B[43mpa_table\u001B[49m\u001B[43m,\u001B[49m\u001B[43m \u001B[49m\u001B[43mquery_type\u001B[49m\u001B[38;5;241;43m=\u001B[39;49m\u001B[43mquery_type\u001B[49m\u001B[43m)\u001B[49m\n\u001B[1;32m    634\u001B[0m \u001B[38;5;28;01melif\u001B[39;00m query_type \u001B[38;5;241m==\u001B[39m \u001B[38;5;124m\"\u001B[39m\u001B[38;5;124mcolumn\u001B[39m\u001B[38;5;124m\"\u001B[39m:\n\u001B[1;32m    635\u001B[0m     \u001B[38;5;28;01mif\u001B[39;00m key \u001B[38;5;129;01min\u001B[39;00m format_columns:\n",
      "File \u001B[0;32m~/Library/Caches/pypoetry/virtualenvs/mtech-dissertation-1JO5IRnR-py3.11/lib/python3.11/site-packages/datasets/formatting/formatting.py:401\u001B[0m, in \u001B[0;36mFormatter.__call__\u001B[0;34m(self, pa_table, query_type)\u001B[0m\n\u001B[1;32m    399\u001B[0m     \u001B[38;5;28;01mreturn\u001B[39;00m \u001B[38;5;28mself\u001B[39m\u001B[38;5;241m.\u001B[39mformat_column(pa_table)\n\u001B[1;32m    400\u001B[0m \u001B[38;5;28;01melif\u001B[39;00m query_type \u001B[38;5;241m==\u001B[39m \u001B[38;5;124m\"\u001B[39m\u001B[38;5;124mbatch\u001B[39m\u001B[38;5;124m\"\u001B[39m:\n\u001B[0;32m--> 401\u001B[0m     \u001B[38;5;28;01mreturn\u001B[39;00m \u001B[38;5;28;43mself\u001B[39;49m\u001B[38;5;241;43m.\u001B[39;49m\u001B[43mformat_batch\u001B[49m\u001B[43m(\u001B[49m\u001B[43mpa_table\u001B[49m\u001B[43m)\u001B[49m\n",
      "File \u001B[0;32m~/Library/Caches/pypoetry/virtualenvs/mtech-dissertation-1JO5IRnR-py3.11/lib/python3.11/site-packages/datasets/formatting/torch_formatter.py:110\u001B[0m, in \u001B[0;36mTorchFormatter.format_batch\u001B[0;34m(self, pa_table)\u001B[0m\n\u001B[1;32m    109\u001B[0m \u001B[38;5;28;01mdef\u001B[39;00m \u001B[38;5;21mformat_batch\u001B[39m(\u001B[38;5;28mself\u001B[39m, pa_table: pa\u001B[38;5;241m.\u001B[39mTable) \u001B[38;5;241m-\u001B[39m\u001B[38;5;241m>\u001B[39m Mapping:\n\u001B[0;32m--> 110\u001B[0m     batch \u001B[38;5;241m=\u001B[39m \u001B[38;5;28;43mself\u001B[39;49m\u001B[38;5;241;43m.\u001B[39;49m\u001B[43mnumpy_arrow_extractor\u001B[49m\u001B[43m(\u001B[49m\u001B[43m)\u001B[49m\u001B[38;5;241;43m.\u001B[39;49m\u001B[43mextract_batch\u001B[49m\u001B[43m(\u001B[49m\u001B[43mpa_table\u001B[49m\u001B[43m)\u001B[49m\n\u001B[1;32m    111\u001B[0m     batch \u001B[38;5;241m=\u001B[39m \u001B[38;5;28mself\u001B[39m\u001B[38;5;241m.\u001B[39mpython_features_decoder\u001B[38;5;241m.\u001B[39mdecode_batch(batch)\n\u001B[1;32m    112\u001B[0m     batch \u001B[38;5;241m=\u001B[39m \u001B[38;5;28mself\u001B[39m\u001B[38;5;241m.\u001B[39mrecursive_tensorize(batch)\n",
      "File \u001B[0;32m~/Library/Caches/pypoetry/virtualenvs/mtech-dissertation-1JO5IRnR-py3.11/lib/python3.11/site-packages/datasets/formatting/formatting.py:165\u001B[0m, in \u001B[0;36mNumpyArrowExtractor.extract_batch\u001B[0;34m(self, pa_table)\u001B[0m\n\u001B[1;32m    164\u001B[0m \u001B[38;5;28;01mdef\u001B[39;00m \u001B[38;5;21mextract_batch\u001B[39m(\u001B[38;5;28mself\u001B[39m, pa_table: pa\u001B[38;5;241m.\u001B[39mTable) \u001B[38;5;241m-\u001B[39m\u001B[38;5;241m>\u001B[39m \u001B[38;5;28mdict\u001B[39m:\n\u001B[0;32m--> 165\u001B[0m     \u001B[38;5;28;01mreturn\u001B[39;00m \u001B[43m{\u001B[49m\u001B[43mcol\u001B[49m\u001B[43m:\u001B[49m\u001B[43m \u001B[49m\u001B[38;5;28;43mself\u001B[39;49m\u001B[38;5;241;43m.\u001B[39;49m\u001B[43m_arrow_array_to_numpy\u001B[49m\u001B[43m(\u001B[49m\u001B[43mpa_table\u001B[49m\u001B[43m[\u001B[49m\u001B[43mcol\u001B[49m\u001B[43m]\u001B[49m\u001B[43m)\u001B[49m\u001B[43m \u001B[49m\u001B[38;5;28;43;01mfor\u001B[39;49;00m\u001B[43m \u001B[49m\u001B[43mcol\u001B[49m\u001B[43m \u001B[49m\u001B[38;5;129;43;01min\u001B[39;49;00m\u001B[43m \u001B[49m\u001B[43mpa_table\u001B[49m\u001B[38;5;241;43m.\u001B[39;49m\u001B[43mcolumn_names\u001B[49m\u001B[43m}\u001B[49m\n",
      "File \u001B[0;32m~/Library/Caches/pypoetry/virtualenvs/mtech-dissertation-1JO5IRnR-py3.11/lib/python3.11/site-packages/datasets/formatting/formatting.py:165\u001B[0m, in \u001B[0;36m<dictcomp>\u001B[0;34m(.0)\u001B[0m\n\u001B[1;32m    164\u001B[0m \u001B[38;5;28;01mdef\u001B[39;00m \u001B[38;5;21mextract_batch\u001B[39m(\u001B[38;5;28mself\u001B[39m, pa_table: pa\u001B[38;5;241m.\u001B[39mTable) \u001B[38;5;241m-\u001B[39m\u001B[38;5;241m>\u001B[39m \u001B[38;5;28mdict\u001B[39m:\n\u001B[0;32m--> 165\u001B[0m     \u001B[38;5;28;01mreturn\u001B[39;00m {col: \u001B[38;5;28;43mself\u001B[39;49m\u001B[38;5;241;43m.\u001B[39;49m\u001B[43m_arrow_array_to_numpy\u001B[49m\u001B[43m(\u001B[49m\u001B[43mpa_table\u001B[49m\u001B[43m[\u001B[49m\u001B[43mcol\u001B[49m\u001B[43m]\u001B[49m\u001B[43m)\u001B[49m \u001B[38;5;28;01mfor\u001B[39;00m col \u001B[38;5;129;01min\u001B[39;00m pa_table\u001B[38;5;241m.\u001B[39mcolumn_names}\n",
      "File \u001B[0;32m~/Library/Caches/pypoetry/virtualenvs/mtech-dissertation-1JO5IRnR-py3.11/lib/python3.11/site-packages/datasets/formatting/formatting.py:197\u001B[0m, in \u001B[0;36mNumpyArrowExtractor._arrow_array_to_numpy\u001B[0;34m(self, pa_array)\u001B[0m\n\u001B[1;32m    191\u001B[0m     \u001B[38;5;28;01mif\u001B[39;00m \u001B[38;5;28many\u001B[39m(\n\u001B[1;32m    192\u001B[0m         (\u001B[38;5;28misinstance\u001B[39m(x, np\u001B[38;5;241m.\u001B[39mndarray) \u001B[38;5;129;01mand\u001B[39;00m (x\u001B[38;5;241m.\u001B[39mdtype \u001B[38;5;241m==\u001B[39m \u001B[38;5;28mobject\u001B[39m \u001B[38;5;129;01mor\u001B[39;00m x\u001B[38;5;241m.\u001B[39mshape \u001B[38;5;241m!=\u001B[39m array[\u001B[38;5;241m0\u001B[39m]\u001B[38;5;241m.\u001B[39mshape))\n\u001B[1;32m    193\u001B[0m         \u001B[38;5;129;01mor\u001B[39;00m (\u001B[38;5;28misinstance\u001B[39m(x, \u001B[38;5;28mfloat\u001B[39m) \u001B[38;5;129;01mand\u001B[39;00m np\u001B[38;5;241m.\u001B[39misnan(x))\n\u001B[1;32m    194\u001B[0m         \u001B[38;5;28;01mfor\u001B[39;00m x \u001B[38;5;129;01min\u001B[39;00m array\n\u001B[1;32m    195\u001B[0m     ):\n\u001B[1;32m    196\u001B[0m         \u001B[38;5;28;01mreturn\u001B[39;00m np\u001B[38;5;241m.\u001B[39marray(array, copy\u001B[38;5;241m=\u001B[39m\u001B[38;5;28;01mFalse\u001B[39;00m, dtype\u001B[38;5;241m=\u001B[39m\u001B[38;5;28mobject\u001B[39m)\n\u001B[0;32m--> 197\u001B[0m \u001B[38;5;28;01mreturn\u001B[39;00m \u001B[43mnp\u001B[49m\u001B[38;5;241;43m.\u001B[39;49m\u001B[43marray\u001B[49m\u001B[43m(\u001B[49m\u001B[43marray\u001B[49m\u001B[43m,\u001B[49m\u001B[43m \u001B[49m\u001B[43mcopy\u001B[49m\u001B[38;5;241;43m=\u001B[39;49m\u001B[38;5;28;43;01mFalse\u001B[39;49;00m\u001B[43m)\u001B[49m\n",
      "\u001B[0;31mValueError\u001B[0m: Unable to avoid copy while creating an array as requested.\nIf using `np.array(obj, copy=False)` replace it with `np.asarray(obj)` to allow a copy when needed (no behavior change in NumPy 1.x).\nFor more details, see https://numpy.org/devdocs/numpy_2_0_migration_guide.html#adapting-to-changes-in-the-copy-keyword."
     ]
    }
   ],
   "source": [
    "trainer.train()"
   ],
   "metadata": {
    "collapsed": false,
    "ExecuteTime": {
     "end_time": "2024-08-20T10:53:55.376490Z",
     "start_time": "2024-08-20T10:53:55.239012Z"
    }
   },
   "id": "db546e1df4fa7cb1",
   "execution_count": 39
  },
  {
   "cell_type": "code",
   "outputs": [],
   "source": [],
   "metadata": {
    "collapsed": false
   },
   "id": "8abdf3f40b03b628"
  }
 ],
 "metadata": {
  "kernelspec": {
   "display_name": "Python 3",
   "language": "python",
   "name": "python3"
  },
  "language_info": {
   "codemirror_mode": {
    "name": "ipython",
    "version": 2
   },
   "file_extension": ".py",
   "mimetype": "text/x-python",
   "name": "python",
   "nbconvert_exporter": "python",
   "pygments_lexer": "ipython2",
   "version": "2.7.6"
  }
 },
 "nbformat": 4,
 "nbformat_minor": 5
}
