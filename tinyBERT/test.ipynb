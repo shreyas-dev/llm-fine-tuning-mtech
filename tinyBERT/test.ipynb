{
 "cells": [
  {
   "cell_type": "code",
   "execution_count": 22,
   "id": "initial_id",
   "metadata": {
    "collapsed": true,
    "ExecuteTime": {
     "end_time": "2024-08-20T17:43:28.429902Z",
     "start_time": "2024-08-20T17:43:28.422788Z"
    }
   },
   "outputs": [],
   "source": [
    "import pandas as pd"
   ]
  },
  {
   "cell_type": "code",
   "outputs": [],
   "source": [
    "df = pd.read_json('/Users/shreyasb/worskpace/shreyas/python/mtech-dissertation/data/train.jsonl', lines=True)"
   ],
   "metadata": {
    "collapsed": false,
    "ExecuteTime": {
     "end_time": "2024-08-19T17:54:33.887420Z",
     "start_time": "2024-08-19T17:54:31.687936Z"
    }
   },
   "id": "d87557642ab939de",
   "execution_count": 3
  },
  {
   "cell_type": "code",
   "outputs": [],
   "source": [
    "from utils import extract_ipc_sections"
   ],
   "metadata": {
    "collapsed": false,
    "ExecuteTime": {
     "end_time": "2024-08-19T17:54:55.657335Z",
     "start_time": "2024-08-19T17:54:55.653163Z"
    }
   },
   "id": "1840b3dc38868b8e",
   "execution_count": 4
  },
  {
   "cell_type": "code",
   "outputs": [
    {
     "data": {
      "text/plain": "          id                                               text  \\\n0    1000008  [(a), Section 5 r/w 27 of the Arms Act. The gi...   \n1  100009671  [05.09.13 Item No. 44 Court No.17 A.B., Item N...   \n2    1000196  [JUDGMENT R.K. Chowdhry, J., For offences unde...   \n3  100120460  [It is further alleged that present applicant,...   \n4  100122782  [Petitioner is a medical practitioner having a...   \n\n                                              labels  \n0  [Section 395 in The Indian Penal Code, Section...  \n1  [Section 438 in The Indian Penal Code, Section...  \n2  [Section 120B in The Indian Penal Code, Sectio...  \n3  [Section 420 in The Indian Penal Code, Section...  \n4  [Section 308 in The Indian Penal Code, Section...  ",
      "text/html": "<div>\n<style scoped>\n    .dataframe tbody tr th:only-of-type {\n        vertical-align: middle;\n    }\n\n    .dataframe tbody tr th {\n        vertical-align: top;\n    }\n\n    .dataframe thead th {\n        text-align: right;\n    }\n</style>\n<table border=\"1\" class=\"dataframe\">\n  <thead>\n    <tr style=\"text-align: right;\">\n      <th></th>\n      <th>id</th>\n      <th>text</th>\n      <th>labels</th>\n    </tr>\n  </thead>\n  <tbody>\n    <tr>\n      <th>0</th>\n      <td>1000008</td>\n      <td>[(a), Section 5 r/w 27 of the Arms Act. The gi...</td>\n      <td>[Section 395 in The Indian Penal Code, Section...</td>\n    </tr>\n    <tr>\n      <th>1</th>\n      <td>100009671</td>\n      <td>[05.09.13 Item No. 44 Court No.17 A.B., Item N...</td>\n      <td>[Section 438 in The Indian Penal Code, Section...</td>\n    </tr>\n    <tr>\n      <th>2</th>\n      <td>1000196</td>\n      <td>[JUDGMENT R.K. Chowdhry, J., For offences unde...</td>\n      <td>[Section 120B in The Indian Penal Code, Sectio...</td>\n    </tr>\n    <tr>\n      <th>3</th>\n      <td>100120460</td>\n      <td>[It is further alleged that present applicant,...</td>\n      <td>[Section 420 in The Indian Penal Code, Section...</td>\n    </tr>\n    <tr>\n      <th>4</th>\n      <td>100122782</td>\n      <td>[Petitioner is a medical practitioner having a...</td>\n      <td>[Section 308 in The Indian Penal Code, Section...</td>\n    </tr>\n  </tbody>\n</table>\n</div>"
     },
     "execution_count": 5,
     "metadata": {},
     "output_type": "execute_result"
    }
   ],
   "source": [
    "df.head()"
   ],
   "metadata": {
    "collapsed": false,
    "ExecuteTime": {
     "end_time": "2024-08-19T17:55:08.627409Z",
     "start_time": "2024-08-19T17:55:08.617240Z"
    }
   },
   "id": "cb84e637504b1e1",
   "execution_count": 5
  },
  {
   "cell_type": "code",
   "outputs": [],
   "source": [
    "df['labels'] = df['labels'].apply(lambda x: extract_ipc_sections(x))"
   ],
   "metadata": {
    "collapsed": false,
    "ExecuteTime": {
     "end_time": "2024-08-19T17:55:24.548686Z",
     "start_time": "2024-08-19T17:55:24.447826Z"
    }
   },
   "id": "e0232b3dcbe20536",
   "execution_count": 6
  },
  {
   "cell_type": "code",
   "outputs": [
    {
     "data": {
      "text/plain": "0                                            [395, 120, 5]\n1                                          [438, 34, 498A]\n2                                    [120B, 161, 467, 109]\n3                           [420, 406, 155, 415, 409, 156]\n4        [308, 336, 338, 337, 384, 325, 326, 323, 482, ...\n                               ...                        \n42830                             [325, 379, 307, 323, 34]\n42831                              [506, 342, 376(2), 313]\n42832                               [304B, 302, 498A, 304]\n42833                             [34, 341, 325, 307, 438]\n42834                                      [341, 323, 452]\nName: labels, Length: 42835, dtype: object"
     },
     "execution_count": 7,
     "metadata": {},
     "output_type": "execute_result"
    }
   ],
   "source": [
    "df['labels']"
   ],
   "metadata": {
    "collapsed": false,
    "ExecuteTime": {
     "end_time": "2024-08-19T17:55:29.326709Z",
     "start_time": "2024-08-19T17:55:29.310536Z"
    }
   },
   "id": "45f33b15812bf912",
   "execution_count": 7
  },
  {
   "cell_type": "code",
   "outputs": [],
   "source": [
    "df = df.drop(columns=['id'])"
   ],
   "metadata": {
    "collapsed": false,
    "ExecuteTime": {
     "end_time": "2024-08-19T17:56:13.976788Z",
     "start_time": "2024-08-19T17:56:13.911527Z"
    }
   },
   "id": "f1e9fadc6651cdf5",
   "execution_count": 8
  },
  {
   "cell_type": "code",
   "outputs": [
    {
     "data": {
      "text/plain": "                                                text  \\\n0  [(a), Section 5 r/w 27 of the Arms Act. The gi...   \n1  [05.09.13 Item No. 44 Court No.17 A.B., Item N...   \n2  [JUDGMENT R.K. Chowdhry, J., For offences unde...   \n3  [It is further alleged that present applicant,...   \n4  [Petitioner is a medical practitioner having a...   \n\n                                              labels  \n0                                      [395, 120, 5]  \n1                                    [438, 34, 498A]  \n2                              [120B, 161, 467, 109]  \n3                     [420, 406, 155, 415, 409, 156]  \n4  [308, 336, 338, 337, 384, 325, 326, 323, 482, ...  ",
      "text/html": "<div>\n<style scoped>\n    .dataframe tbody tr th:only-of-type {\n        vertical-align: middle;\n    }\n\n    .dataframe tbody tr th {\n        vertical-align: top;\n    }\n\n    .dataframe thead th {\n        text-align: right;\n    }\n</style>\n<table border=\"1\" class=\"dataframe\">\n  <thead>\n    <tr style=\"text-align: right;\">\n      <th></th>\n      <th>text</th>\n      <th>labels</th>\n    </tr>\n  </thead>\n  <tbody>\n    <tr>\n      <th>0</th>\n      <td>[(a), Section 5 r/w 27 of the Arms Act. The gi...</td>\n      <td>[395, 120, 5]</td>\n    </tr>\n    <tr>\n      <th>1</th>\n      <td>[05.09.13 Item No. 44 Court No.17 A.B., Item N...</td>\n      <td>[438, 34, 498A]</td>\n    </tr>\n    <tr>\n      <th>2</th>\n      <td>[JUDGMENT R.K. Chowdhry, J., For offences unde...</td>\n      <td>[120B, 161, 467, 109]</td>\n    </tr>\n    <tr>\n      <th>3</th>\n      <td>[It is further alleged that present applicant,...</td>\n      <td>[420, 406, 155, 415, 409, 156]</td>\n    </tr>\n    <tr>\n      <th>4</th>\n      <td>[Petitioner is a medical practitioner having a...</td>\n      <td>[308, 336, 338, 337, 384, 325, 326, 323, 482, ...</td>\n    </tr>\n  </tbody>\n</table>\n</div>"
     },
     "execution_count": 9,
     "metadata": {},
     "output_type": "execute_result"
    }
   ],
   "source": [
    "df.head()"
   ],
   "metadata": {
    "collapsed": false,
    "ExecuteTime": {
     "end_time": "2024-08-19T17:56:19.143326Z",
     "start_time": "2024-08-19T17:56:19.130552Z"
    }
   },
   "id": "33d5acd7a0fec244",
   "execution_count": 9
  },
  {
   "cell_type": "code",
   "outputs": [],
   "source": [
    "df['text'] = df['text'].apply(lambda x: \" \".join(x))"
   ],
   "metadata": {
    "collapsed": false,
    "ExecuteTime": {
     "end_time": "2024-08-19T17:59:16.056832Z",
     "start_time": "2024-08-19T17:59:15.105046Z"
    }
   },
   "id": "68fb29b0b68a32ff",
   "execution_count": 11
  },
  {
   "cell_type": "code",
   "outputs": [
    {
     "data": {
      "text/plain": "                                                text  \\\n0  (a), Section 5 r/w 27 of the Arms Act. The gis...   \n1  05.09.13 Item No. 44 Court No.17 A.B. Item No....   \n2  JUDGMENT R.K. Chowdhry, J. For offences under ...   \n3  It is further alleged that present applicant, ...   \n4  Petitioner is a medical practitioner having a ...   \n\n                                              labels  \n0                                      [395, 120, 5]  \n1                                    [438, 34, 498A]  \n2                              [120B, 161, 467, 109]  \n3                     [420, 406, 155, 415, 409, 156]  \n4  [308, 336, 338, 337, 384, 325, 326, 323, 482, ...  ",
      "text/html": "<div>\n<style scoped>\n    .dataframe tbody tr th:only-of-type {\n        vertical-align: middle;\n    }\n\n    .dataframe tbody tr th {\n        vertical-align: top;\n    }\n\n    .dataframe thead th {\n        text-align: right;\n    }\n</style>\n<table border=\"1\" class=\"dataframe\">\n  <thead>\n    <tr style=\"text-align: right;\">\n      <th></th>\n      <th>text</th>\n      <th>labels</th>\n    </tr>\n  </thead>\n  <tbody>\n    <tr>\n      <th>0</th>\n      <td>(a), Section 5 r/w 27 of the Arms Act. The gis...</td>\n      <td>[395, 120, 5]</td>\n    </tr>\n    <tr>\n      <th>1</th>\n      <td>05.09.13 Item No. 44 Court No.17 A.B. Item No....</td>\n      <td>[438, 34, 498A]</td>\n    </tr>\n    <tr>\n      <th>2</th>\n      <td>JUDGMENT R.K. Chowdhry, J. For offences under ...</td>\n      <td>[120B, 161, 467, 109]</td>\n    </tr>\n    <tr>\n      <th>3</th>\n      <td>It is further alleged that present applicant, ...</td>\n      <td>[420, 406, 155, 415, 409, 156]</td>\n    </tr>\n    <tr>\n      <th>4</th>\n      <td>Petitioner is a medical practitioner having a ...</td>\n      <td>[308, 336, 338, 337, 384, 325, 326, 323, 482, ...</td>\n    </tr>\n  </tbody>\n</table>\n</div>"
     },
     "execution_count": 12,
     "metadata": {},
     "output_type": "execute_result"
    }
   ],
   "source": [
    "df.head()"
   ],
   "metadata": {
    "collapsed": false,
    "ExecuteTime": {
     "end_time": "2024-08-19T18:00:23.817427Z",
     "start_time": "2024-08-19T18:00:23.810886Z"
    }
   },
   "id": "43b316aae04ca1be",
   "execution_count": 12
  },
  {
   "cell_type": "code",
   "outputs": [],
   "source": [
    "df.to_parquet('data/train.parquet',index=False, engine='pyarrow')"
   ],
   "metadata": {
    "collapsed": false,
    "ExecuteTime": {
     "end_time": "2024-08-19T18:02:00.540395Z",
     "start_time": "2024-08-19T18:01:59.003380Z"
    }
   },
   "id": "c20faea837508d8",
   "execution_count": 13
  },
  {
   "cell_type": "code",
   "outputs": [],
   "source": [
    "df = pd.read_json('/Users/shreyasb/worskpace/shreyas/python/mtech-dissertation/data/test.jsonl', lines=True)"
   ],
   "metadata": {
    "collapsed": false,
    "ExecuteTime": {
     "end_time": "2024-08-19T18:03:00.878171Z",
     "start_time": "2024-08-19T18:03:00.189151Z"
    }
   },
   "id": "3c12324fb123eaf8",
   "execution_count": 14
  },
  {
   "cell_type": "code",
   "outputs": [],
   "source": [
    "df['labels'] = df['labels'].apply(lambda x: extract_ipc_sections(x))\n",
    "df['text'] = df['text'].apply(lambda x: \" \".join(x))\n",
    "df = df.drop(columns=['id'])"
   ],
   "metadata": {
    "collapsed": false,
    "ExecuteTime": {
     "end_time": "2024-08-19T18:03:43.671173Z",
     "start_time": "2024-08-19T18:03:43.451757Z"
    }
   },
   "id": "dcb9649a1cd5f78a",
   "execution_count": 15
  },
  {
   "cell_type": "code",
   "outputs": [],
   "source": [
    "df.to_parquet('data/test.parquet',index=False, engine='pyarrow')"
   ],
   "metadata": {
    "collapsed": false,
    "ExecuteTime": {
     "end_time": "2024-08-19T18:03:57.900332Z",
     "start_time": "2024-08-19T18:03:57.668629Z"
    }
   },
   "id": "586717cfcb1b4370",
   "execution_count": 16
  },
  {
   "cell_type": "code",
   "outputs": [
    {
     "data": {
      "text/plain": "(13039, 2)"
     },
     "execution_count": 18,
     "metadata": {},
     "output_type": "execute_result"
    }
   ],
   "source": [],
   "metadata": {
    "collapsed": false,
    "ExecuteTime": {
     "end_time": "2024-08-19T18:04:44.564410Z",
     "start_time": "2024-08-19T18:04:44.373899Z"
    }
   },
   "id": "928df8d3f261b1e",
   "execution_count": 18
  },
  {
   "cell_type": "code",
   "outputs": [],
   "source": [
    "df = pd.read_parquet('data/train.parquet')"
   ],
   "metadata": {
    "collapsed": false,
    "ExecuteTime": {
     "end_time": "2024-08-20T17:43:36.725156Z",
     "start_time": "2024-08-20T17:43:34.815862Z"
    }
   },
   "id": "13e924899a4497fc",
   "execution_count": 23
  },
  {
   "cell_type": "code",
   "outputs": [],
   "source": [
    "unique_labels = sorted(set([label for sublist in df['labels'] for label in sublist]))\n",
    "label2id = {label: idx for idx, label in enumerate(unique_labels)}\n",
    "id2label = {idx: label for label, idx in label2id.items()}\n",
    "num_labels = len(unique_labels)"
   ],
   "metadata": {
    "collapsed": false,
    "ExecuteTime": {
     "end_time": "2024-08-20T17:43:39.933456Z",
     "start_time": "2024-08-20T17:43:39.922657Z"
    }
   },
   "id": "e55413e9f5a8ccde",
   "execution_count": 24
  },
  {
   "cell_type": "code",
   "outputs": [],
   "source": [
    "def encode_labels(labels, label2id):\n",
    "    encoding = [0] * len(label2id)\n",
    "    for label in labels:\n",
    "        encoding[label2id[label]] = 1\n",
    "    return encoding\n",
    "\n",
    "df['encoded_labels'] = df['labels'].apply(lambda x: encode_labels(x, label2id))"
   ],
   "metadata": {
    "collapsed": false,
    "ExecuteTime": {
     "end_time": "2024-08-20T17:43:49.666090Z",
     "start_time": "2024-08-20T17:43:47.040846Z"
    }
   },
   "id": "3bf40b8c3637147",
   "execution_count": 25
  },
  {
   "cell_type": "code",
   "outputs": [
    {
     "data": {
      "text/plain": "                                                text  \\\n0  (a), Section 5 r/w 27 of the Arms Act. The gis...   \n1  05.09.13 Item No. 44 Court No.17 A.B. Item No....   \n2  JUDGMENT R.K. Chowdhry, J. For offences under ...   \n3  It is further alleged that present applicant, ...   \n4  Petitioner is a medical practitioner having a ...   \n\n                                              labels  \\\n0                                      [395, 120, 5]   \n1                                    [438, 34, 498A]   \n2                              [120B, 161, 467, 109]   \n3                     [420, 406, 155, 415, 409, 156]   \n4  [308, 336, 338, 337, 384, 325, 326, 323, 482, ...   \n\n                                      encoded_labels  \n0  [0, 0, 0, 1, 0, 0, 0, 0, 0, 0, 0, 0, 0, 0, 0, ...  \n1  [0, 0, 0, 0, 0, 0, 0, 0, 0, 0, 0, 0, 0, 0, 0, ...  \n2  [0, 1, 0, 0, 1, 0, 0, 0, 0, 0, 0, 0, 1, 0, 0, ...  \n3  [0, 0, 0, 0, 0, 0, 0, 0, 0, 0, 1, 1, 0, 0, 0, ...  \n4  [0, 0, 0, 0, 0, 0, 0, 0, 0, 0, 0, 0, 0, 0, 0, ...  ",
      "text/html": "<div>\n<style scoped>\n    .dataframe tbody tr th:only-of-type {\n        vertical-align: middle;\n    }\n\n    .dataframe tbody tr th {\n        vertical-align: top;\n    }\n\n    .dataframe thead th {\n        text-align: right;\n    }\n</style>\n<table border=\"1\" class=\"dataframe\">\n  <thead>\n    <tr style=\"text-align: right;\">\n      <th></th>\n      <th>text</th>\n      <th>labels</th>\n      <th>encoded_labels</th>\n    </tr>\n  </thead>\n  <tbody>\n    <tr>\n      <th>0</th>\n      <td>(a), Section 5 r/w 27 of the Arms Act. The gis...</td>\n      <td>[395, 120, 5]</td>\n      <td>[0, 0, 0, 1, 0, 0, 0, 0, 0, 0, 0, 0, 0, 0, 0, ...</td>\n    </tr>\n    <tr>\n      <th>1</th>\n      <td>05.09.13 Item No. 44 Court No.17 A.B. Item No....</td>\n      <td>[438, 34, 498A]</td>\n      <td>[0, 0, 0, 0, 0, 0, 0, 0, 0, 0, 0, 0, 0, 0, 0, ...</td>\n    </tr>\n    <tr>\n      <th>2</th>\n      <td>JUDGMENT R.K. Chowdhry, J. For offences under ...</td>\n      <td>[120B, 161, 467, 109]</td>\n      <td>[0, 1, 0, 0, 1, 0, 0, 0, 0, 0, 0, 0, 1, 0, 0, ...</td>\n    </tr>\n    <tr>\n      <th>3</th>\n      <td>It is further alleged that present applicant, ...</td>\n      <td>[420, 406, 155, 415, 409, 156]</td>\n      <td>[0, 0, 0, 0, 0, 0, 0, 0, 0, 0, 1, 1, 0, 0, 0, ...</td>\n    </tr>\n    <tr>\n      <th>4</th>\n      <td>Petitioner is a medical practitioner having a ...</td>\n      <td>[308, 336, 338, 337, 384, 325, 326, 323, 482, ...</td>\n      <td>[0, 0, 0, 0, 0, 0, 0, 0, 0, 0, 0, 0, 0, 0, 0, ...</td>\n    </tr>\n  </tbody>\n</table>\n</div>"
     },
     "execution_count": 26,
     "metadata": {},
     "output_type": "execute_result"
    }
   ],
   "source": [
    "df.head()"
   ],
   "metadata": {
    "collapsed": false,
    "ExecuteTime": {
     "end_time": "2024-08-20T17:43:53.044729Z",
     "start_time": "2024-08-20T17:43:53.041729Z"
    }
   },
   "id": "3b6cef80efcd61c6",
   "execution_count": 26
  },
  {
   "cell_type": "code",
   "outputs": [],
   "source": [
    "from transformers import BertTokenizer, BertForSequenceClassification\n",
    "from torch.utils.data import Dataset, DataLoader"
   ],
   "metadata": {
    "collapsed": false,
    "ExecuteTime": {
     "end_time": "2024-08-20T17:44:12.870143Z",
     "start_time": "2024-08-20T17:44:10.175332Z"
    }
   },
   "id": "3b6de4de7dbeabc1",
   "execution_count": 27
  },
  {
   "cell_type": "code",
   "outputs": [
    {
     "name": "stderr",
     "output_type": "stream",
     "text": [
      "/Users/shreyasb/Library/Caches/pypoetry/virtualenvs/mtech-dissertation-1JO5IRnR-py3.11/lib/python3.11/site-packages/transformers/tokenization_utils_base.py:1601: FutureWarning: `clean_up_tokenization_spaces` was not set. It will be set to `True` by default. This behavior will be depracted in transformers v4.45, and will be then set to `False` by default. For more details check this issue: https://github.com/huggingface/transformers/issues/31884\n",
      "  warnings.warn(\n"
     ]
    }
   ],
   "source": [
    "tokenizer = BertTokenizer.from_pretrained('huawei-noah/TinyBERT_General_4L_312D')"
   ],
   "metadata": {
    "collapsed": false,
    "ExecuteTime": {
     "end_time": "2024-08-20T17:44:16.266621Z",
     "start_time": "2024-08-20T17:44:15.526954Z"
    }
   },
   "id": "267d6406e91cf5e",
   "execution_count": 28
  },
  {
   "cell_type": "code",
   "outputs": [],
   "source": [
    "import torch\n",
    "class CourtCaseDataset(Dataset):\n",
    "    def __init__(self, texts, labels, tokenizer, max_length=512):\n",
    "        self.texts = texts\n",
    "        self.labels = labels\n",
    "        self.tokenizer = tokenizer\n",
    "        self.max_length = max_length\n",
    "\n",
    "    def __len__(self):\n",
    "        return len(self.texts)\n",
    "\n",
    "    def __getitem__(self, idx):\n",
    "        text = self.texts[idx]\n",
    "        labels = self.labels[idx]\n",
    "\n",
    "        encoding = self.tokenizer(\n",
    "            text,\n",
    "            max_length=self.max_length,\n",
    "            truncation=True,\n",
    "            padding='max_length',\n",
    "            return_tensors='pt'\n",
    "        )\n",
    "\n",
    "        return {\n",
    "            'input_ids': encoding['input_ids'].flatten(),\n",
    "            'attention_mask': encoding['attention_mask'].flatten(),\n",
    "            'labels': torch.tensor(labels, dtype=torch.float)\n",
    "        }\n",
    "\n",
    "dataset = CourtCaseDataset(df['text'], df['encoded_labels'], tokenizer)"
   ],
   "metadata": {
    "collapsed": false,
    "ExecuteTime": {
     "end_time": "2024-08-20T17:44:54.826268Z",
     "start_time": "2024-08-20T17:44:54.820113Z"
    }
   },
   "id": "ecc809a49650b466",
   "execution_count": 30
  },
  {
   "cell_type": "code",
   "outputs": [
    {
     "name": "stderr",
     "output_type": "stream",
     "text": [
      "Some weights of BertForSequenceClassification were not initialized from the model checkpoint at huawei-noah/TinyBERT_General_4L_312D and are newly initialized: ['classifier.bias', 'classifier.weight']\n",
      "You should probably TRAIN this model on a down-stream task to be able to use it for predictions and inference.\n"
     ]
    }
   ],
   "source": [
    "from transformers import Trainer, TrainingArguments, BertForSequenceClassification\n",
    "model = BertForSequenceClassification.from_pretrained(\n",
    "    'huawei-noah/TinyBERT_General_4L_312D',\n",
    "    num_labels=num_labels,\n",
    "    problem_type=\"multi_label_classification\"\n",
    ")"
   ],
   "metadata": {
    "collapsed": false,
    "ExecuteTime": {
     "end_time": "2024-08-20T17:45:15.409862Z",
     "start_time": "2024-08-20T17:45:12.672243Z"
    }
   },
   "id": "5803897498e9f0c2",
   "execution_count": 31
  },
  {
   "cell_type": "code",
   "outputs": [],
   "source": [
    "training_args = TrainingArguments(\n",
    "    output_dir='./results',\n",
    "    num_train_epochs=3,\n",
    "    per_device_train_batch_size=16,\n",
    "    per_device_eval_batch_size=16,\n",
    "    warmup_steps=500,\n",
    "    weight_decay=0.01,\n",
    "    logging_dir='./logs',\n",
    "    logging_steps=10,\n",
    "    eval_strategy=\"epoch\",\n",
    ")"
   ],
   "metadata": {
    "collapsed": false,
    "ExecuteTime": {
     "end_time": "2024-08-20T17:45:30.122290Z",
     "start_time": "2024-08-20T17:45:30.111876Z"
    }
   },
   "id": "5d129adf92d08e33",
   "execution_count": 33
  },
  {
   "cell_type": "code",
   "outputs": [],
   "source": [
    "from sklearn.metrics import accuracy_score, precision_recall_fscore_support\n",
    "\n",
    "def compute_metrics(pred):\n",
    "    labels = pred.label_ids\n",
    "    preds = pred.predictions\n",
    "    \n",
    "    # Apply sigmoid and threshold at 0.5 to get binary predictions\n",
    "    sigmoid = torch.nn.Sigmoid()\n",
    "    probs = sigmoid(torch.Tensor(preds))\n",
    "    y_pred = (probs > 0.5).int().numpy()\n",
    "    \n",
    "    # Calculate accuracy\n",
    "    accuracy = accuracy_score(labels, y_pred)\n",
    "\n",
    "    # Calculate precision, recall, f1\n",
    "    precision, recall, f1, _ = precision_recall_fscore_support(labels, y_pred, average='macro')\n",
    "\n",
    "    return {\n",
    "        'accuracy': accuracy,\n",
    "        'precision': precision,\n",
    "        'recall': recall,\n",
    "        'f1': f1,\n",
    "    }"
   ],
   "metadata": {
    "collapsed": false,
    "ExecuteTime": {
     "end_time": "2024-08-20T20:03:02.716615Z",
     "start_time": "2024-08-20T20:03:02.644564Z"
    }
   },
   "id": "1a0de5e30fb1dea",
   "execution_count": 35
  },
  {
   "cell_type": "code",
   "outputs": [
    {
     "data": {
      "text/plain": "<IPython.core.display.HTML object>",
      "text/html": "\n    <div>\n      \n      <progress value='8034' max='8034' style='width:300px; height:20px; vertical-align: middle;'></progress>\n      [8034/8034 2:17:11, Epoch 3/3]\n    </div>\n    <table border=\"1\" class=\"dataframe\">\n  <thead>\n <tr style=\"text-align: left;\">\n      <th>Epoch</th>\n      <th>Training Loss</th>\n      <th>Validation Loss</th>\n    </tr>\n  </thead>\n  <tbody>\n    <tr>\n      <td>1</td>\n      <td>0.144700</td>\n      <td>0.136554</td>\n    </tr>\n    <tr>\n      <td>2</td>\n      <td>0.134100</td>\n      <td>0.130074</td>\n    </tr>\n    <tr>\n      <td>3</td>\n      <td>0.122500</td>\n      <td>0.125292</td>\n    </tr>\n  </tbody>\n</table><p>"
     },
     "metadata": {},
     "output_type": "display_data"
    },
    {
     "data": {
      "text/plain": "TrainOutput(global_step=8034, training_loss=0.1485160802590007, metrics={'train_runtime': 8241.4019, 'train_samples_per_second': 15.593, 'train_steps_per_second': 0.975, 'total_flos': 1854741803765760.0, 'train_loss': 0.1485160802590007, 'epoch': 3.0})"
     },
     "execution_count": 34,
     "metadata": {},
     "output_type": "execute_result"
    }
   ],
   "source": [
    "trainer = Trainer(\n",
    "    model=model,\n",
    "    args=training_args,\n",
    "    train_dataset=dataset,\n",
    "    eval_dataset=dataset,  # Replace with a proper validation dataset\n",
    ")\n",
    "\n",
    "trainer.train()"
   ],
   "metadata": {
    "collapsed": false,
    "ExecuteTime": {
     "end_time": "2024-08-20T20:03:02.597440Z",
     "start_time": "2024-08-20T17:45:39.901840Z"
    }
   },
   "id": "8d25b176d16e95d8",
   "execution_count": 34
  },
  {
   "cell_type": "code",
   "outputs": [],
   "source": [
    "import torch\n",
    "\n",
    "def predict(text):\n",
    "    encoding = tokenizer(\n",
    "        text,\n",
    "        max_length=512,\n",
    "        truncation=True,\n",
    "        padding='max_length',\n",
    "        return_tensors='pt'\n",
    "    )\n",
    "\n",
    "    # Move the model to the same device as the input\n",
    "    model.to(encoding['input_ids'].device)\n",
    "\n",
    "    output = model(**{k: v.to(encoding['input_ids'].device) for k, v in encoding.items()})\n",
    "    logits = output.logits\n",
    "    sigmoid = torch.nn.Sigmoid()\n",
    "    probs = sigmoid(logits)\n",
    "    print(probs)\n",
    "    predictions = (probs > 0.2).int()\n",
    "\n",
    "    predicted_labels = [id2label[i] for i, p in enumerate(predictions[0]) if p == 1]\n",
    "    return predicted_labels"
   ],
   "metadata": {
    "collapsed": false,
    "ExecuteTime": {
     "end_time": "2024-08-20T20:14:39.684527Z",
     "start_time": "2024-08-20T20:14:39.669575Z"
    }
   },
   "id": "4840feb12aa670b9",
   "execution_count": 41
  },
  {
   "cell_type": "code",
   "outputs": [
    {
     "name": "stdout",
     "output_type": "stream",
     "text": [
      "tensor([[0.0108, 0.0197, 0.0091, 0.0188, 0.0881, 0.0068, 0.0281, 0.3253, 0.2975,\n",
      "         0.2547, 0.0094, 0.0183, 0.0155, 0.0072, 0.0144, 0.0118, 0.0334, 0.0201,\n",
      "         0.0093, 0.0117, 0.0095, 0.0071, 0.0225, 0.0083, 0.0161, 0.0118, 0.1682,\n",
      "         0.0534, 0.0075, 0.0248, 0.0266, 0.2120, 0.0517, 0.0107, 0.0140, 0.0170,\n",
      "         0.3326, 0.0208, 0.0158, 0.0153, 0.4377, 0.2036, 0.1597, 0.1358, 0.0456,\n",
      "         0.0249, 0.0093, 0.0094, 0.3209, 0.1898, 0.0237, 0.0707, 0.0529, 0.0253,\n",
      "         0.0118, 0.0099, 0.0195, 0.0062, 0.0060, 0.0415, 0.0076, 0.0689, 0.0181,\n",
      "         0.0107, 0.0070, 0.0256, 0.0155, 0.0176, 0.0327, 0.0093, 0.0390, 0.0207,\n",
      "         0.0110, 0.0078, 0.0110, 0.0131, 0.0665, 0.1002, 0.0192, 0.0157, 0.0463,\n",
      "         0.0253, 0.0439, 0.0078, 0.0622, 0.0095, 0.0164, 0.0377, 0.0464, 0.0463,\n",
      "         0.0364, 0.0060, 0.0093, 0.0317, 0.0095, 0.0088, 0.0676, 0.3393, 0.0119,\n",
      "         0.0167]], grad_fn=<SigmoidBackward0>)\n"
     ]
    },
    {
     "data": {
      "text/plain": "['147', '148', '149', '302', '307', '323', '324', '34', '506']"
     },
     "execution_count": 44,
     "metadata": {},
     "output_type": "execute_result"
    }
   ],
   "source": [
    "predict(\n",
    "    \"\"\"\n",
    "    (a), Section 5 r/w 27 of the Arms Act. The gist of theprosecution case relevant for the purpose of this proceedingmay be stated thus: With the growth of industry, commerceand trade in and around the city of Mumbai which generatessubstantial quantity of wealth, there has been increase oforganised activities by gangs of anti-socials to extractmoney from affluent sections of society like developers,hoteliers and other businessmen by putting them in fear ofdeath and then to demand substantial sums of money commonlyknown as \"Khadani\" i.e. protection money.One such gangwas operating in the city under Amar Naik @ Bhai, who dieda couple of years before the decision in the case at anencounter with the police.The prosecution alleged that inpursuance of a criminal conspiracy between 15.1.1994 to16.5.1994 the accused persons and others of the gangembarked upon preparatory acts like procuring theinformation about the names of the builders of M/s KalpataruConstruction Company which was engaged in developing aproperty at Pali Hill, named Nakshatra Building.PW-7Sudhir Tambe was the Senior Vice-President of the companywith its head office at Nariman Point.He used to sit inthe head- office.PW 6 Pachapur, Civil Engineer, was anemployee of the company who used to remain at the site tosupervise the construction.As the prosecution story runs,on 15.4.1994 between 11.30 a.m. and 12.00 noon while PW 6was on duty at the construction site, accused no.3, NitinVasant Venugurlekar armed with revolver and accused No.4Rajindera @ Rajan Mahadeo Margaj armed with a chopper andaccused no.5 Jayendra @ Jai Anandrao Jadhav also armed witha chopper visited the site of Nakshatra Building; theythreatened the workers at the site, forcibly brought PW 6Pachapur in a room on the ground floor and man-handled him.Accused no.3, pointing a revolver at him demanded the name,address and telephone number of the builders.PW 6disclosed the name of PW 7 Tambe and gave his telephonenumber to them.The accused then asked him to go to theoffice of the builders at Nariman Point and make thearrangement for a telephonic talk with Tambe.PW 6 rushedto the office and told Tambe of what had happened at theconstruction site.This was followed by telephonic callsfrom the accused who wanted to speak to Tambe.Attemptswere made by PW 6 and PW 7 to avoid any discussion with thegangsters.Two or three days thereafter when the accusedgot Tambe on the telephone he (Tambe) gave them some othertelephone numbers and asked them to contact those personsincluding one D.N.Ghosh, the Security Contractor.Eight/tendays thereafter again a telephone call was made to theoffice of Tambe which was received by PW 6 who was informedby the person making the call that they could not get D. N.Ghosh on the telephone numbers furnished by Tambe.Thereafter PW 6 handed over the receiver to Tambe.Thisincident was followed by several threats given by thegangsters to workers and also repeated telephone calls madeto the Head Office of the company to contact Tambe.Thestaff of the site office absented from work resulting invirtual closure of construction activity.On 11.5.1994 thedeceased Sanjay Patil telephoned to Tambe and warned himthat he is wasting time and should meet him without furtherdelay.After some days there was one more similar call fromSanjay Patil and he asked Tambe that he should talk to Bhaiand saying so he handed over the receiver to another personwho gave his identity as Amar Naik (since deceased), whotold Tambe that he should pay Rs.10 lacs.The later pleadedhis inability to pay such a heavy sum and after somediscussion agreed to pay Rs.5 lacs.He was asked to come toNakshatra Building site on 16.5.1994 along with money.Inthe meantime Tambe informed all the happenings to the Addl.Commissioner of Police Mr.Sanjeev Dayal and the then Dy.Commissioner of Police of Zone VII Mr. Rajanish Shethwithin whose jurisdiction Khar Police Station fell.On 16.5.1994 at about 12.00 noon the deceased SanjayPatil telephoned Tambe and inquired from him as to what hewas going to do about the payment and then Tambe repliedthat he will be leaving office at about 2.00 p.m. for PaliHill.Sanjay Patil cautioned him that he should not makeany haste and he should wait for his call so that he willtake necessary instructions from his boss i.e. Amar Naik.At about 2.00 p.m. on that day there was a telephone callfrom Sanjay Patil telling that Tambe should not meet him atthe Nakshatra Building site but instead he should meet himnear the Ceaser Palace Hotel.This telephonic conversationwas tape-recorded.Tambe was instructed on telephone thathis man shall carry a white plastic bag containing theamount of Rs.5 lacs and shall wait near the entrance gate ofCeaser Palace Hotel and the person coming to collect thesaid bag will introduce himself as Me Rawanacha Manus Hai.Tambe informed to the DCP all these happenings and handedover the tape in which the telephonic conversation wasrecorded by him.The DCP had made the arrangements to keepa regular watch near the building site.PW 1 Sunil Deshmukhwas deployed to wait in cognito near the gate of the CeaserPalace Hotel and to carry the white plastic bag containingbundles of papers which would give an appearance like thebundles of currency notes.The other officers, who werealso in cognito, had taken their position at strategicpoints near the hotel.At about 4.05 p.m. Sunil Deshmukhnoticed that one red coloured Maruti van halted in front ofthe Ceaser Palace Hotel.He noticed three persons gettingdown from the said van.Those three persons were coming inhis direction, and the van went ahead 50 to 60 feets andhalted there.The deceased Sanjay Patil and the accusedno.7 Bapu Sidhram Gaikwad got down from the said van andaccused no.6 Mohamed Ismail was sitting on the driver seatin the van.Heenquired from PW1 about his identity and when PW 1 repliedthat he has been sent by Tambe Sahib.PW 1 Sunil Deshmukhthen asked that person who are you (Tum Kaun Hai) and thenthe accused no.2 Umesh Bhatt told him that Hum Rawan KeAadmi Hai.L.....I.........T.......T.......T.......T.......T.......T..J J U D G M E N T D.P. MOHAPATRA,J This appeal, filed by accused no.1 Babu KuttanRamkrishna Pillai and accused no.2 Umesh @ Babu PurshottamBhatt of TADA ACT Spl.Thereafter accused no.1 Babu Kuttan extendedhis hand towards PW 1 who delivered the bag to him.At thisjuncture the police officers who were standing nearby incognito rushed to the place and surrounded the threepersons.When the police officers were trying to overpowerthem the deceased Sanjay Patil @ Avinash Amanna and theaccused no .7 Bapu Sidhram Gaikwad came forward withrevolvers in their hands and threatened the police party bysaying they should leave their men or else the policemenwill be killed.Saying so they fired in the direction ofthe police party.At this point PW 1 took out his revolverand pointed it in the direction of the accused and told themwe are all policemen and you should throw away yourrevolvers else we will fire.Even then the accused personsfired some rounds in the direction of the police party, thenPW 1 and one other officer tried to rush towards them butthey sat in the said Maruti van and sped away from theplace.After the situation calmed down, the police drew thepanchnamas Ex.22 in presence of some witnesses andconducted personal search of the three culprits.On suchsearch accused no.1 Babu Kuttan Pillai was found to possessthe plastic bag containing the paper bundles (Art.1),accused no.2 Umesh Bhatt was found to possess a big Rampuriknife which was hidden at the waist under the pant by leftside.After completion of investigation the police submittedthe charge-sheet.The three persons at the spot wereremanded to the police custody.Subsequently, the otheraccused persons were also arrested.They were put to testidentification parade.The learned Trial Judge onappreciation of the evidence on record convicted accusedno.1 Babu Kuttan Ramkrishna Pillai and the accused no.2Umesh @ Babu Purshottam Bhatt for the offence punishableunder section 395 of the Indian Penal Code and sentencedeach of them to suffer rigorous imprisonment of 5 years andto pay a fine of Rs.500, in default of payment of fine toundergo further Rigorous Imprisonment for 6 months.Theywere also convicted under Section 120 B of the IPC but noseparate sentence was passed.They were acquitted of theother offences with which they were charged.The remainingaccused persons i.e. accused nos. 3,4,5,6 and 7 wereacquitted of all the charges framed against them.1 and 2, have filed this appeal assailing the judgmentpassed by the Designated Court at Brihan Mumbai,convicting/sentencing them as above.On a reading of the judgment under challenge, we findthat the learned trial Judge has considered the entire caseled by the prosecution in great detail and after discussingthe charges framed against the appellants under sections3(2), 3(3) and 3(5) of TADA Act, rejected the prosecutioncase on that count.Thereafter the learned trial Judge inparagraph 17 onwards considered the question of what offencewas made out against the appellants.After a detaileddiscussion of the relevant evidence placed by theprosecution and after examining it in the light of thecontentions on behalf of the defence, the learned trialJudge believed the testimony of PW 1- Sunil Deshmukh, PW 7 -Tambe and PW 9 - L.J. Kamble and came to hold that theappellants are guilty of the offence of criminal conspiracypunishable under section 120-B and the offence of dacoitypunishable under section 395 IPC and convicted themthereunder and imposed the punishment as noted earlier.We have perused the evidence of these witnesses.\n",
    "    \"\"\"\n",
    ")"
   ],
   "metadata": {
    "collapsed": false,
    "ExecuteTime": {
     "end_time": "2024-08-20T20:15:57.678984Z",
     "start_time": "2024-08-20T20:15:57.592814Z"
    }
   },
   "id": "4a07fa80681111",
   "execution_count": 44
  },
  {
   "cell_type": "code",
   "outputs": [],
   "source": [],
   "metadata": {
    "collapsed": false
   },
   "id": "fd5a94d8baeace66"
  }
 ],
 "metadata": {
  "kernelspec": {
   "display_name": "Python 3",
   "language": "python",
   "name": "python3"
  },
  "language_info": {
   "codemirror_mode": {
    "name": "ipython",
    "version": 2
   },
   "file_extension": ".py",
   "mimetype": "text/x-python",
   "name": "python",
   "nbconvert_exporter": "python",
   "pygments_lexer": "ipython2",
   "version": "2.7.6"
  }
 },
 "nbformat": 4,
 "nbformat_minor": 5
}
